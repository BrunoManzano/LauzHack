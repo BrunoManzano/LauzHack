{
 "cells": [
  {
   "cell_type": "markdown",
   "metadata": {},
   "source": [
    "# Data Exploration Notebook"
   ]
  },
  {
   "cell_type": "markdown",
   "metadata": {},
   "source": [
    "### Import necessary libraries"
   ]
  },
  {
   "cell_type": "code",
   "execution_count": 1,
   "metadata": {},
   "outputs": [],
   "source": [
    "import pandas as pd\n",
    "from sklearn.preprocessing import LabelEncoder\n",
    "import seaborn as sns\n",
    "import matplotlib.pyplot as plt"
   ]
  },
  {
   "cell_type": "code",
   "execution_count": 2,
   "metadata": {},
   "outputs": [],
   "source": [
    "# Load the dataset\n",
    "Floresland_path = '../data/BMS dataset/INNOVIX_Floresland.xlsx'"
   ]
  },
  {
   "cell_type": "markdown",
   "metadata": {},
   "source": [
    "### Ex-factory volumes"
   ]
  },
  {
   "cell_type": "code",
   "execution_count": 3,
   "metadata": {},
   "outputs": [],
   "source": [
    "exf_floresland = pd.read_excel(Floresland_path, sheet_name='Ex-Factory volumes')\n",
    "demand_floresland = pd.read_excel(Floresland_path, sheet_name='Demand volumes')\n",
    "activity_floresland = pd.read_excel(Floresland_path, sheet_name='Activity')\n",
    "share_of_voice_floresland = pd.read_excel(Floresland_path, sheet_name='Share of Voice')\n",
    "new_patient_share_floresland = pd.read_excel(Floresland_path, sheet_name='New patient share')\n",
    "indication_split_floresland = pd.read_excel(Floresland_path, sheet_name='Indication split')"
   ]
  },
  {
   "cell_type": "code",
   "execution_count": 4,
   "metadata": {},
   "outputs": [
    {
     "name": "stdout",
     "output_type": "stream",
     "text": [
      "Floresland ex-factory columns: Index(['Country', 'Product', 'Data type', 'Unit of measure', 'Date', 'Value'], dtype='object')\n",
      "Floresland demand columns: Index(['Country', 'Product', 'Data type', 'Unit of measure', 'Date', 'Value'], dtype='object')\n",
      "Floresland activity columns: Index(['Country', 'Data type', 'Product', 'Channel', 'Date', 'Indication',\n",
      "       'Value'],\n",
      "      dtype='object')\n",
      "Floresland share of voice columns: Index(['Country', 'Data type', 'Product', 'Indication', 'Date', 'Value'], dtype='object')\n",
      "Floresland new patient share columns: Index(['Country', 'Product', 'Data type', 'Indication', 'Sub-Indication',\n",
      "       'Date', 'Value'],\n",
      "      dtype='object')\n",
      "Floresland indication split columns: Index(['Country', 'Product', 'Data type', 'Indication', 'Sub-Indication',\n",
      "       'Date', 'Value'],\n",
      "      dtype='object')\n"
     ]
    }
   ],
   "source": [
    "print(\"Floresland ex-factory columns:\",exf_floresland.columns)\n",
    "print(\"Floresland demand columns:\",demand_floresland.columns)\n",
    "print(\"Floresland activity columns:\",activity_floresland.columns)\n",
    "print(\"Floresland share of voice columns:\",share_of_voice_floresland.columns)\n",
    "print(\"Floresland new patient share columns:\",new_patient_share_floresland.columns)\n",
    "print(\"Floresland indication split columns:\",indication_split_floresland.columns)"
   ]
  },
  {
   "cell_type": "code",
   "execution_count": 5,
   "metadata": {},
   "outputs": [
    {
     "name": "stdout",
     "output_type": "stream",
     "text": [
      "<class 'pandas.core.frame.DataFrame'>\n",
      "RangeIndex: 82 entries, 0 to 81\n",
      "Data columns (total 6 columns):\n",
      " #   Column           Non-Null Count  Dtype         \n",
      "---  ------           --------------  -----         \n",
      " 0   Country          82 non-null     object        \n",
      " 1   Product          82 non-null     object        \n",
      " 2   Data type        82 non-null     object        \n",
      " 3   Unit of measure  82 non-null     object        \n",
      " 4   Date             82 non-null     datetime64[ns]\n",
      " 5   Value            82 non-null     int64         \n",
      "dtypes: datetime64[ns](1), int64(1), object(4)\n",
      "memory usage: 4.0+ KB\n",
      "Floresland info: None\n"
     ]
    }
   ],
   "source": [
    "print(\"Floresland info:\",exf_floresland.info())"
   ]
  },
  {
   "cell_type": "code",
   "execution_count": 6,
   "metadata": {},
   "outputs": [
    {
     "data": {
      "text/html": [
       "<div>\n",
       "<style scoped>\n",
       "    .dataframe tbody tr th:only-of-type {\n",
       "        vertical-align: middle;\n",
       "    }\n",
       "\n",
       "    .dataframe tbody tr th {\n",
       "        vertical-align: top;\n",
       "    }\n",
       "\n",
       "    .dataframe thead th {\n",
       "        text-align: right;\n",
       "    }\n",
       "</style>\n",
       "<table border=\"1\" class=\"dataframe\">\n",
       "  <thead>\n",
       "    <tr style=\"text-align: right;\">\n",
       "      <th></th>\n",
       "      <th>Country</th>\n",
       "      <th>Product</th>\n",
       "      <th>Data type</th>\n",
       "      <th>Unit of measure</th>\n",
       "      <th>Date</th>\n",
       "      <th>Value</th>\n",
       "    </tr>\n",
       "  </thead>\n",
       "  <tbody>\n",
       "    <tr>\n",
       "      <th>0</th>\n",
       "      <td>Floresland</td>\n",
       "      <td>INNOVIX</td>\n",
       "      <td>Ex-factory volumes</td>\n",
       "      <td>Milligrams</td>\n",
       "      <td>2018-01-01</td>\n",
       "      <td>3503180</td>\n",
       "    </tr>\n",
       "    <tr>\n",
       "      <th>1</th>\n",
       "      <td>Floresland</td>\n",
       "      <td>INNOVIX</td>\n",
       "      <td>Ex-factory volumes</td>\n",
       "      <td>Milligrams</td>\n",
       "      <td>2018-02-01</td>\n",
       "      <td>2611020</td>\n",
       "    </tr>\n",
       "    <tr>\n",
       "      <th>2</th>\n",
       "      <td>Floresland</td>\n",
       "      <td>INNOVIX</td>\n",
       "      <td>Ex-factory volumes</td>\n",
       "      <td>Milligrams</td>\n",
       "      <td>2018-03-01</td>\n",
       "      <td>2952120</td>\n",
       "    </tr>\n",
       "    <tr>\n",
       "      <th>3</th>\n",
       "      <td>Floresland</td>\n",
       "      <td>INNOVIX</td>\n",
       "      <td>Ex-factory volumes</td>\n",
       "      <td>Milligrams</td>\n",
       "      <td>2018-04-01</td>\n",
       "      <td>2995280</td>\n",
       "    </tr>\n",
       "    <tr>\n",
       "      <th>4</th>\n",
       "      <td>Floresland</td>\n",
       "      <td>INNOVIX</td>\n",
       "      <td>Ex-factory volumes</td>\n",
       "      <td>Milligrams</td>\n",
       "      <td>2018-05-01</td>\n",
       "      <td>2929660</td>\n",
       "    </tr>\n",
       "  </tbody>\n",
       "</table>\n",
       "</div>"
      ],
      "text/plain": [
       "      Country  Product           Data type Unit of measure       Date    Value\n",
       "0  Floresland  INNOVIX  Ex-factory volumes      Milligrams 2018-01-01  3503180\n",
       "1  Floresland  INNOVIX  Ex-factory volumes      Milligrams 2018-02-01  2611020\n",
       "2  Floresland  INNOVIX  Ex-factory volumes      Milligrams 2018-03-01  2952120\n",
       "3  Floresland  INNOVIX  Ex-factory volumes      Milligrams 2018-04-01  2995280\n",
       "4  Floresland  INNOVIX  Ex-factory volumes      Milligrams 2018-05-01  2929660"
      ]
     },
     "execution_count": 6,
     "metadata": {},
     "output_type": "execute_result"
    }
   ],
   "source": [
    "exf_floresland.head()"
   ]
  },
  {
   "cell_type": "code",
   "execution_count": 7,
   "metadata": {},
   "outputs": [
    {
     "data": {
      "text/html": [
       "<div>\n",
       "<style scoped>\n",
       "    .dataframe tbody tr th:only-of-type {\n",
       "        vertical-align: middle;\n",
       "    }\n",
       "\n",
       "    .dataframe tbody tr th {\n",
       "        vertical-align: top;\n",
       "    }\n",
       "\n",
       "    .dataframe thead th {\n",
       "        text-align: right;\n",
       "    }\n",
       "</style>\n",
       "<table border=\"1\" class=\"dataframe\">\n",
       "  <thead>\n",
       "    <tr style=\"text-align: right;\">\n",
       "      <th></th>\n",
       "      <th>Country</th>\n",
       "      <th>Product</th>\n",
       "      <th>Data_type</th>\n",
       "      <th>Unit_of_measure</th>\n",
       "      <th>Date</th>\n",
       "      <th>Value</th>\n",
       "    </tr>\n",
       "  </thead>\n",
       "  <tbody>\n",
       "    <tr>\n",
       "      <th>0</th>\n",
       "      <td>Floresland</td>\n",
       "      <td>INNOVIX</td>\n",
       "      <td>Ex-factory volumes</td>\n",
       "      <td>Milligrams</td>\n",
       "      <td>2018-01-01</td>\n",
       "      <td>3503180</td>\n",
       "    </tr>\n",
       "    <tr>\n",
       "      <th>1</th>\n",
       "      <td>Floresland</td>\n",
       "      <td>INNOVIX</td>\n",
       "      <td>Ex-factory volumes</td>\n",
       "      <td>Milligrams</td>\n",
       "      <td>2018-02-01</td>\n",
       "      <td>2611020</td>\n",
       "    </tr>\n",
       "    <tr>\n",
       "      <th>2</th>\n",
       "      <td>Floresland</td>\n",
       "      <td>INNOVIX</td>\n",
       "      <td>Ex-factory volumes</td>\n",
       "      <td>Milligrams</td>\n",
       "      <td>2018-03-01</td>\n",
       "      <td>2952120</td>\n",
       "    </tr>\n",
       "    <tr>\n",
       "      <th>3</th>\n",
       "      <td>Floresland</td>\n",
       "      <td>INNOVIX</td>\n",
       "      <td>Ex-factory volumes</td>\n",
       "      <td>Milligrams</td>\n",
       "      <td>2018-04-01</td>\n",
       "      <td>2995280</td>\n",
       "    </tr>\n",
       "    <tr>\n",
       "      <th>4</th>\n",
       "      <td>Floresland</td>\n",
       "      <td>INNOVIX</td>\n",
       "      <td>Ex-factory volumes</td>\n",
       "      <td>Milligrams</td>\n",
       "      <td>2018-05-01</td>\n",
       "      <td>2929660</td>\n",
       "    </tr>\n",
       "  </tbody>\n",
       "</table>\n",
       "</div>"
      ],
      "text/plain": [
       "      Country  Product           Data_type Unit_of_measure       Date    Value\n",
       "0  Floresland  INNOVIX  Ex-factory volumes      Milligrams 2018-01-01  3503180\n",
       "1  Floresland  INNOVIX  Ex-factory volumes      Milligrams 2018-02-01  2611020\n",
       "2  Floresland  INNOVIX  Ex-factory volumes      Milligrams 2018-03-01  2952120\n",
       "3  Floresland  INNOVIX  Ex-factory volumes      Milligrams 2018-04-01  2995280\n",
       "4  Floresland  INNOVIX  Ex-factory volumes      Milligrams 2018-05-01  2929660"
      ]
     },
     "execution_count": 7,
     "metadata": {},
     "output_type": "execute_result"
    }
   ],
   "source": [
    "# Rename the columns for better understanding\n",
    "exf_floresland.rename(columns={\n",
    "    'Data type':'Data_type',\n",
    "    'Unit of measure':'Unit_of_measure'\n",
    "    }, inplace=True)\n",
    "\n",
    "exf_floresland.head()"
   ]
  },
  {
   "cell_type": "markdown",
   "metadata": {},
   "source": [
    "### Merge datasets"
   ]
  },
  {
   "cell_type": "code",
   "execution_count": 9,
   "metadata": {},
   "outputs": [
    {
     "data": {
      "text/html": [
       "<div>\n",
       "<style scoped>\n",
       "    .dataframe tbody tr th:only-of-type {\n",
       "        vertical-align: middle;\n",
       "    }\n",
       "\n",
       "    .dataframe tbody tr th {\n",
       "        vertical-align: top;\n",
       "    }\n",
       "\n",
       "    .dataframe thead th {\n",
       "        text-align: right;\n",
       "    }\n",
       "</style>\n",
       "<table border=\"1\" class=\"dataframe\">\n",
       "  <thead>\n",
       "    <tr style=\"text-align: right;\">\n",
       "      <th></th>\n",
       "      <th>Country</th>\n",
       "      <th>Product</th>\n",
       "      <th>Data_type</th>\n",
       "      <th>Unit_of_measure</th>\n",
       "      <th>Date</th>\n",
       "      <th>Value_ex_factory</th>\n",
       "      <th>Data type</th>\n",
       "      <th>Channel</th>\n",
       "      <th>Indication</th>\n",
       "      <th>Value_activity_floresland</th>\n",
       "    </tr>\n",
       "  </thead>\n",
       "  <tbody>\n",
       "    <tr>\n",
       "      <th>0</th>\n",
       "      <td>Floresland</td>\n",
       "      <td>INNOVIX</td>\n",
       "      <td>Ex-factory volumes</td>\n",
       "      <td>Milligrams</td>\n",
       "      <td>2018-05-01</td>\n",
       "      <td>2929660</td>\n",
       "      <td>Activity</td>\n",
       "      <td>Meetings</td>\n",
       "      <td>Indication 12</td>\n",
       "      <td>0.0</td>\n",
       "    </tr>\n",
       "    <tr>\n",
       "      <th>1</th>\n",
       "      <td>Floresland</td>\n",
       "      <td>INNOVIX</td>\n",
       "      <td>Ex-factory volumes</td>\n",
       "      <td>Milligrams</td>\n",
       "      <td>2018-05-01</td>\n",
       "      <td>2929660</td>\n",
       "      <td>Activity</td>\n",
       "      <td>Meetings</td>\n",
       "      <td>Indication 2</td>\n",
       "      <td>0.0</td>\n",
       "    </tr>\n",
       "    <tr>\n",
       "      <th>2</th>\n",
       "      <td>Floresland</td>\n",
       "      <td>INNOVIX</td>\n",
       "      <td>Ex-factory volumes</td>\n",
       "      <td>Milligrams</td>\n",
       "      <td>2018-05-01</td>\n",
       "      <td>2929660</td>\n",
       "      <td>Activity</td>\n",
       "      <td>Meetings</td>\n",
       "      <td>Indication 19</td>\n",
       "      <td>1.0</td>\n",
       "    </tr>\n",
       "    <tr>\n",
       "      <th>3</th>\n",
       "      <td>Floresland</td>\n",
       "      <td>INNOVIX</td>\n",
       "      <td>Ex-factory volumes</td>\n",
       "      <td>Milligrams</td>\n",
       "      <td>2018-05-01</td>\n",
       "      <td>2929660</td>\n",
       "      <td>Activity</td>\n",
       "      <td>Meetings</td>\n",
       "      <td>Indication 23</td>\n",
       "      <td>0.0</td>\n",
       "    </tr>\n",
       "    <tr>\n",
       "      <th>4</th>\n",
       "      <td>Floresland</td>\n",
       "      <td>INNOVIX</td>\n",
       "      <td>Ex-factory volumes</td>\n",
       "      <td>Milligrams</td>\n",
       "      <td>2018-05-01</td>\n",
       "      <td>2929660</td>\n",
       "      <td>Activity</td>\n",
       "      <td>Meetings</td>\n",
       "      <td>Indication 10</td>\n",
       "      <td>0.0</td>\n",
       "    </tr>\n",
       "  </tbody>\n",
       "</table>\n",
       "</div>"
      ],
      "text/plain": [
       "      Country  Product           Data_type Unit_of_measure       Date  \\\n",
       "0  Floresland  INNOVIX  Ex-factory volumes      Milligrams 2018-05-01   \n",
       "1  Floresland  INNOVIX  Ex-factory volumes      Milligrams 2018-05-01   \n",
       "2  Floresland  INNOVIX  Ex-factory volumes      Milligrams 2018-05-01   \n",
       "3  Floresland  INNOVIX  Ex-factory volumes      Milligrams 2018-05-01   \n",
       "4  Floresland  INNOVIX  Ex-factory volumes      Milligrams 2018-05-01   \n",
       "\n",
       "   Value_ex_factory Data type   Channel     Indication  \\\n",
       "0           2929660  Activity  Meetings  Indication 12   \n",
       "1           2929660  Activity  Meetings   Indication 2   \n",
       "2           2929660  Activity  Meetings  Indication 19   \n",
       "3           2929660  Activity  Meetings  Indication 23   \n",
       "4           2929660  Activity  Meetings  Indication 10   \n",
       "\n",
       "   Value_activity_floresland  \n",
       "0                        0.0  \n",
       "1                        0.0  \n",
       "2                        1.0  \n",
       "3                        0.0  \n",
       "4                        0.0  "
      ]
     },
     "execution_count": 9,
     "metadata": {},
     "output_type": "execute_result"
    }
   ],
   "source": [
    "# Merge the ex-factory and activity_floresland data\n",
    "# Normalize the Date format in the Ex-factory dataset\n",
    "exf_floresland['Date'] = pd.to_datetime(exf_floresland['Date'], format='%b-%y')\n",
    "\n",
    "# Normalize the Date format in the activity_floresland dataset (French month abbreviations)\n",
    "months_map = {\n",
    "    'janv.': 'Jan', 'févr.': 'Feb', 'mars': 'Mar', 'avr.': 'Apr',\n",
    "    'mai': 'May', 'juin': 'Jun', 'juil.': 'Jul', 'août': 'Aug',\n",
    "    'sept.': 'Sep', 'oct.': 'Oct', 'nov.': 'Nov', 'déc.': 'Dec'\n",
    "}\n",
    "activity_floresland['Date'] = activity_floresland['Date'].replace(months_map, regex=True)\n",
    "activity_floresland['Date'] = pd.to_datetime(activity_floresland['Date'], format='%b-%y')\n",
    "\n",
    "# Merge the datasets on common columns\n",
    "merged_activity_floresland = pd.merge(\n",
    "    exf_floresland,\n",
    "    activity_floresland,\n",
    "    on=['Country', 'Product', 'Date'],\n",
    "    how='inner',  # Use 'inner' join to get rows with matching dates\n",
    "    suffixes=('_ex_factory', '_activity_floresland')\n",
    ")\n",
    "\n",
    "# Display the merged dataset\n",
    "merged_activity_floresland.head()\n"
   ]
  },
  {
   "cell_type": "code",
   "execution_count": null,
   "metadata": {},
   "outputs": [
    {
     "name": "stdout",
     "output_type": "stream",
     "text": [
      "      Country  Product           Data_type Unit_of_measure       Date  \\\n",
      "0  Floresland  INNOVIX  Ex-factory volumes      Milligrams 2018-01-01   \n",
      "1  Floresland  INNOVIX  Ex-factory volumes      Milligrams 2018-02-01   \n",
      "2  Floresland  INNOVIX  Ex-factory volumes      Milligrams 2018-03-01   \n",
      "3  Floresland  INNOVIX  Ex-factory volumes      Milligrams 2018-04-01   \n",
      "4  Floresland  INNOVIX  Ex-factory volumes      Milligrams 2018-05-01   \n",
      "\n",
      "     Value  Country_encoded  Product_encoded  Data_type_encoded  \\\n",
      "0  3503180                0                0                  0   \n",
      "1  2611020                0                0                  0   \n",
      "2  2952120                0                0                  0   \n",
      "3  2995280                0                0                  0   \n",
      "4  2929660                0                0                  0   \n",
      "\n",
      "   Unit_of_measure_encoded  \n",
      "0                        0  \n",
      "1                        0  \n",
      "2                        0  \n",
      "3                        0  \n",
      "4                        0  \n"
     ]
    }
   ],
   "source": [
    "# Encode categorical variables\n",
    "\n",
    "columns_to_encode = ['Country', 'Product', 'Data_type', 'Unit_of_measure']\n",
    "\n",
    "# Label encoding for all categorical columns\n",
    "label_encoder = LabelEncoder()\n",
    "for col in columns_to_encode:\n",
    "    exf_floresland[col + '_encoded'] = label_encoder.fit_transform(exf_floresland[col])\n",
    "\n",
    "\n",
    "print(exf_floresland.head())\n"
   ]
  },
  {
   "cell_type": "code",
   "execution_count": null,
   "metadata": {},
   "outputs": [
    {
     "name": "stdout",
     "output_type": "stream",
     "text": [
      "Country                     1\n",
      "Product                     1\n",
      "Data_type                   1\n",
      "Unit_of_measure             1\n",
      "Date                       82\n",
      "Value                      82\n",
      "Country_encoded             1\n",
      "Product_encoded             1\n",
      "Data_type_encoded           1\n",
      "Unit_of_measure_encoded     1\n",
      "dtype: int64\n",
      "Country                    0\n",
      "Product                    0\n",
      "Data_type                  0\n",
      "Unit_of_measure            0\n",
      "Date                       0\n",
      "Value                      0\n",
      "Country_encoded            0\n",
      "Product_encoded            0\n",
      "Data_type_encoded          0\n",
      "Unit_of_measure_encoded    0\n",
      "dtype: int64\n"
     ]
    }
   ],
   "source": [
    "print(exf_floresland.nunique())  # Check unique values per column\n",
    "print(exf_floresland.isnull().sum())  # Check for missing values\n"
   ]
  },
  {
   "cell_type": "code",
   "execution_count": null,
   "metadata": {},
   "outputs": [
    {
     "data": {
      "image/png": "[encoded data removed]",
      "text/plain": [
       "<Figure size 640x480 with 2 Axes>"
      ]
     },
     "metadata": {},
     "output_type": "display_data"
    }
   ],
   "source": [
    "# Print the correlation matrix\n",
    "numerical_dataset = exf_floresland.drop(columns=columns_to_encode)\n",
    "correlation_matrix = numerical_dataset.corr()\n",
    "\n",
    "# Plot heatmap of correlation matrix\n",
    "sns.heatmap(correlation_matrix, annot=True, cmap='coolwarm', fmt='.2f')\n",
    "plt.title('Correlation Matrix')\n",
    "plt.show()\n"
   ]
  }
 ],
 "metadata": {
  "kernelspec": {
   "display_name": "ICX",
   "language": "python",
   "name": "python3"
  },
  "language_info": {
   "codemirror_mode": {
    "name": "ipython",
    "version": 3
   },
   "file_extension": ".py",
   "mimetype": "text/x-python",
   "name": "python",
   "nbconvert_exporter": "python",
   "pygments_lexer": "ipython3",
   "version": "3.11.9"
  }
 },
 "nbformat": 4,
 "nbformat_minor": 2
}
