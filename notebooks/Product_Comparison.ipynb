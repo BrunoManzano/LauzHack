{
 "cells": [
  {
   "cell_type": "markdown",
   "metadata": {},
   "source": [
    "# Data Exploration Notebook"
   ]
  },
  {
   "cell_type": "markdown",
   "metadata": {},
   "source": [
    "### Import necessary libraries"
   ]
  },
  {
   "cell_type": "code",
   "execution_count": 252,
   "metadata": {},
   "outputs": [],
   "source": [
    "import pandas as pd"
   ]
  },
  {
   "cell_type": "code",
   "execution_count": 253,
   "metadata": {},
   "outputs": [],
   "source": [
    "# Load the dataset\n",
    "Elbonie_path = '../data/BMS dataset/INNOVIX_Elbonie.xlsx'\n",
    "Floresland_path = '../data/BMS dataset/INNOVIX_Floresland.xlsx'\n",
    "Zegoland_path = '../data/BMS dataset/INNOVIX_Elbonie.xlsx'"
   ]
  },
  {
   "cell_type": "markdown",
   "metadata": {},
   "source": [
    "### Ex-factory volumes"
   ]
  },
  {
   "cell_type": "code",
   "execution_count": 254,
   "metadata": {},
   "outputs": [],
   "source": [
    "elbonie_exfactor = pd.read_excel(Elbonie_path, sheet_name='Ex-factory volumes')\n",
    "foresland_exfactor = pd.read_excel(Floresland_path, sheet_name='Ex-Factory volumes')"
   ]
  },
  {
   "cell_type": "code",
   "execution_count": 255,
   "metadata": {},
   "outputs": [
    {
     "name": "stdout",
     "output_type": "stream",
     "text": [
      "<class 'pandas.core.frame.DataFrame'>\n",
      "RangeIndex: 82 entries, 0 to 81\n",
      "Data columns (total 6 columns):\n",
      " #   Column           Non-Null Count  Dtype         \n",
      "---  ------           --------------  -----         \n",
      " 0   Country          82 non-null     object        \n",
      " 1   Product          82 non-null     object        \n",
      " 2   Data type        82 non-null     object        \n",
      " 3   Unit of measure  82 non-null     object        \n",
      " 4   Date             82 non-null     datetime64[ns]\n",
      " 5   Value            82 non-null     int64         \n",
      "dtypes: datetime64[ns](1), int64(1), object(4)\n",
      "memory usage: 4.0+ KB\n",
      "Elbonie info: None\n",
      "<class 'pandas.core.frame.DataFrame'>\n",
      "RangeIndex: 82 entries, 0 to 81\n",
      "Data columns (total 6 columns):\n",
      " #   Column           Non-Null Count  Dtype         \n",
      "---  ------           --------------  -----         \n",
      " 0   Country          82 non-null     object        \n",
      " 1   Product          82 non-null     object        \n",
      " 2   Data type        82 non-null     object        \n",
      " 3   Unit of measure  82 non-null     object        \n",
      " 4   Date             82 non-null     datetime64[ns]\n",
      " 5   Value            82 non-null     int64         \n",
      "dtypes: datetime64[ns](1), int64(1), object(4)\n",
      "memory usage: 4.0+ KB\n",
      "Floresland info: None\n"
     ]
    }
   ],
   "source": [
    "print(\"Elbonie info:\",elbonie_exfactor.info())\n",
    "print(\"Floresland info:\",foresland_exfactor.info())"
   ]
  },
  {
   "cell_type": "code",
   "execution_count": 256,
   "metadata": {},
   "outputs": [
    {
     "name": "stdout",
     "output_type": "stream",
     "text": [
      "Elbonie head:    Country  Product           Data type Unit of measure       Date    Value\n",
      "0  ELBONIE  INNOVIX  Ex-factory volumes      Milligrams 2018-01-01  2415700\n",
      "1  ELBONIE  INNOVIX  Ex-factory volumes      Milligrams 2018-02-01  2546680\n",
      "2  ELBONIE  INNOVIX  Ex-factory volumes      Milligrams 2018-03-01  2692040\n",
      "3  ELBONIE  INNOVIX  Ex-factory volumes      Milligrams 2018-04-01  3064760\n",
      "4  ELBONIE  INNOVIX  Ex-factory volumes      Milligrams 2018-05-01  2862080\n",
      "Floresland head:       Country  Product           Data type Unit of measure       Date    Value\n",
      "0  Floresland  INNOVIX  Ex-factory volumes      Milligrams 2018-01-01  3503180\n",
      "1  Floresland  INNOVIX  Ex-factory volumes      Milligrams 2018-02-01  2611020\n",
      "2  Floresland  INNOVIX  Ex-factory volumes      Milligrams 2018-03-01  2952120\n",
      "3  Floresland  INNOVIX  Ex-factory volumes      Milligrams 2018-04-01  2995280\n",
      "4  Floresland  INNOVIX  Ex-factory volumes      Milligrams 2018-05-01  2929660\n"
     ]
    }
   ],
   "source": [
    "print(\"Elbonie head:\",elbonie_exfactor.head())\n",
    "print(\"Floresland head:\",foresland_exfactor.head())"
   ]
  },
  {
   "cell_type": "markdown",
   "metadata": {},
   "source": [
    "# INNOVIX FLoresland "
   ]
  },
  {
   "cell_type": "markdown",
   "metadata": {},
   "source": [
    "## Demand Volumes"
   ]
  },
  {
   "cell_type": "code",
   "execution_count": 257,
   "metadata": {},
   "outputs": [
    {
     "data": {
      "text/plain": [
       "Index(['Country', 'Product', 'Data type', 'Unit of measure', 'Date', 'Value'], dtype='object')"
      ]
     },
     "execution_count": 257,
     "metadata": {},
     "output_type": "execute_result"
    }
   ],
   "source": [
    "foresland_demand= pd.read_excel(Floresland_path, sheet_name='Demand volumes')\n",
    "foresland_demand.columns"
   ]
  },
  {
   "cell_type": "code",
   "execution_count": 258,
   "metadata": {},
   "outputs": [
    {
     "name": "stdout",
     "output_type": "stream",
     "text": [
      "<class 'pandas.core.frame.DataFrame'>\n",
      "RangeIndex: 146 entries, 0 to 145\n",
      "Data columns (total 6 columns):\n",
      " #   Column           Non-Null Count  Dtype         \n",
      "---  ------           --------------  -----         \n",
      " 0   Country          146 non-null    object        \n",
      " 1   Product          146 non-null    object        \n",
      " 2   Data type        146 non-null    object        \n",
      " 3   Unit of measure  146 non-null    object        \n",
      " 4   Date             146 non-null    datetime64[ns]\n",
      " 5   Value            146 non-null    float64       \n",
      "dtypes: datetime64[ns](1), float64(1), object(4)\n",
      "memory usage: 7.0+ KB\n"
     ]
    }
   ],
   "source": [
    "foresland_demand.info()"
   ]
  },
  {
   "cell_type": "code",
   "execution_count": 259,
   "metadata": {},
   "outputs": [
    {
     "data": {
      "text/plain": [
       "Country            0\n",
       "Product            0\n",
       "Data type          0\n",
       "Unit of measure    0\n",
       "Date               0\n",
       "Value              0\n",
       "dtype: int64"
      ]
     },
     "execution_count": 259,
     "metadata": {},
     "output_type": "execute_result"
    }
   ],
   "source": [
    "foresland_demand.isna().sum()"
   ]
  },
  {
   "cell_type": "code",
   "execution_count": 260,
   "metadata": {},
   "outputs": [
    {
     "data": {
      "text/html": [
       "<div>\n",
       "<style scoped>\n",
       "    .dataframe tbody tr th:only-of-type {\n",
       "        vertical-align: middle;\n",
       "    }\n",
       "\n",
       "    .dataframe tbody tr th {\n",
       "        vertical-align: top;\n",
       "    }\n",
       "\n",
       "    .dataframe thead th {\n",
       "        text-align: right;\n",
       "    }\n",
       "</style>\n",
       "<table border=\"1\" class=\"dataframe\">\n",
       "  <thead>\n",
       "    <tr style=\"text-align: right;\">\n",
       "      <th></th>\n",
       "      <th>Country</th>\n",
       "      <th>Product</th>\n",
       "      <th>Data type</th>\n",
       "      <th>Unit of measure</th>\n",
       "      <th>Date</th>\n",
       "      <th>Value</th>\n",
       "    </tr>\n",
       "  </thead>\n",
       "  <tbody>\n",
       "    <tr>\n",
       "      <th>0</th>\n",
       "      <td>Floresland</td>\n",
       "      <td>INNOVIX</td>\n",
       "      <td>Demand volumes</td>\n",
       "      <td>Milligrams</td>\n",
       "      <td>2022-07-01</td>\n",
       "      <td>3.488909e+06</td>\n",
       "    </tr>\n",
       "    <tr>\n",
       "      <th>1</th>\n",
       "      <td>Floresland</td>\n",
       "      <td>INNOVIX</td>\n",
       "      <td>Demand volumes</td>\n",
       "      <td>Milligrams</td>\n",
       "      <td>2022-08-01</td>\n",
       "      <td>4.227398e+06</td>\n",
       "    </tr>\n",
       "    <tr>\n",
       "      <th>2</th>\n",
       "      <td>Floresland</td>\n",
       "      <td>INNOVIX</td>\n",
       "      <td>Demand volumes</td>\n",
       "      <td>Milligrams</td>\n",
       "      <td>2022-09-01</td>\n",
       "      <td>3.282558e+06</td>\n",
       "    </tr>\n",
       "    <tr>\n",
       "      <th>3</th>\n",
       "      <td>Floresland</td>\n",
       "      <td>INNOVIX</td>\n",
       "      <td>Demand volumes</td>\n",
       "      <td>Milligrams</td>\n",
       "      <td>2022-10-01</td>\n",
       "      <td>3.826548e+06</td>\n",
       "    </tr>\n",
       "    <tr>\n",
       "      <th>4</th>\n",
       "      <td>Floresland</td>\n",
       "      <td>INNOVIX</td>\n",
       "      <td>Demand volumes</td>\n",
       "      <td>Milligrams</td>\n",
       "      <td>2022-11-01</td>\n",
       "      <td>3.381186e+06</td>\n",
       "    </tr>\n",
       "  </tbody>\n",
       "</table>\n",
       "</div>"
      ],
      "text/plain": [
       "      Country  Product       Data type Unit of measure       Date   \n",
       "0  Floresland  INNOVIX  Demand volumes      Milligrams 2022-07-01  \\\n",
       "1  Floresland  INNOVIX  Demand volumes      Milligrams 2022-08-01   \n",
       "2  Floresland  INNOVIX  Demand volumes      Milligrams 2022-09-01   \n",
       "3  Floresland  INNOVIX  Demand volumes      Milligrams 2022-10-01   \n",
       "4  Floresland  INNOVIX  Demand volumes      Milligrams 2022-11-01   \n",
       "\n",
       "          Value  \n",
       "0  3.488909e+06  \n",
       "1  4.227398e+06  \n",
       "2  3.282558e+06  \n",
       "3  3.826548e+06  \n",
       "4  3.381186e+06  "
      ]
     },
     "execution_count": 260,
     "metadata": {},
     "output_type": "execute_result"
    }
   ],
   "source": [
    "foresland_demand.head(5)"
   ]
  },
  {
   "cell_type": "code",
   "execution_count": 261,
   "metadata": {},
   "outputs": [
    {
     "data": {
      "text/html": [
       "<div>\n",
       "<style scoped>\n",
       "    .dataframe tbody tr th:only-of-type {\n",
       "        vertical-align: middle;\n",
       "    }\n",
       "\n",
       "    .dataframe tbody tr th {\n",
       "        vertical-align: top;\n",
       "    }\n",
       "\n",
       "    .dataframe thead th {\n",
       "        text-align: right;\n",
       "    }\n",
       "</style>\n",
       "<table border=\"1\" class=\"dataframe\">\n",
       "  <thead>\n",
       "    <tr style=\"text-align: right;\">\n",
       "      <th></th>\n",
       "      <th>Country</th>\n",
       "      <th>Product</th>\n",
       "      <th>Data type</th>\n",
       "      <th>Unit of measure</th>\n",
       "      <th>Date</th>\n",
       "      <th>Value</th>\n",
       "    </tr>\n",
       "  </thead>\n",
       "  <tbody>\n",
       "    <tr>\n",
       "      <th>0</th>\n",
       "      <td>Floresland</td>\n",
       "      <td>INNOVIX</td>\n",
       "      <td>Demand volumes</td>\n",
       "      <td>Milligrams</td>\n",
       "      <td>2022-07-01</td>\n",
       "      <td>3.488909e+06</td>\n",
       "    </tr>\n",
       "    <tr>\n",
       "      <th>1</th>\n",
       "      <td>Floresland</td>\n",
       "      <td>INNOVIX</td>\n",
       "      <td>Demand volumes</td>\n",
       "      <td>Milligrams</td>\n",
       "      <td>2022-08-01</td>\n",
       "      <td>4.227398e+06</td>\n",
       "    </tr>\n",
       "    <tr>\n",
       "      <th>2</th>\n",
       "      <td>Floresland</td>\n",
       "      <td>INNOVIX</td>\n",
       "      <td>Demand volumes</td>\n",
       "      <td>Milligrams</td>\n",
       "      <td>2022-09-01</td>\n",
       "      <td>3.282558e+06</td>\n",
       "    </tr>\n",
       "    <tr>\n",
       "      <th>3</th>\n",
       "      <td>Floresland</td>\n",
       "      <td>INNOVIX</td>\n",
       "      <td>Demand volumes</td>\n",
       "      <td>Milligrams</td>\n",
       "      <td>2022-10-01</td>\n",
       "      <td>3.826548e+06</td>\n",
       "    </tr>\n",
       "    <tr>\n",
       "      <th>4</th>\n",
       "      <td>Floresland</td>\n",
       "      <td>INNOVIX</td>\n",
       "      <td>Demand volumes</td>\n",
       "      <td>Milligrams</td>\n",
       "      <td>2022-11-01</td>\n",
       "      <td>3.381186e+06</td>\n",
       "    </tr>\n",
       "  </tbody>\n",
       "</table>\n",
       "</div>"
      ],
      "text/plain": [
       "      Country  Product       Data type Unit of measure       Date   \n",
       "0  Floresland  INNOVIX  Demand volumes      Milligrams 2022-07-01  \\\n",
       "1  Floresland  INNOVIX  Demand volumes      Milligrams 2022-08-01   \n",
       "2  Floresland  INNOVIX  Demand volumes      Milligrams 2022-09-01   \n",
       "3  Floresland  INNOVIX  Demand volumes      Milligrams 2022-10-01   \n",
       "4  Floresland  INNOVIX  Demand volumes      Milligrams 2022-11-01   \n",
       "\n",
       "          Value  \n",
       "0  3.488909e+06  \n",
       "1  4.227398e+06  \n",
       "2  3.282558e+06  \n",
       "3  3.826548e+06  \n",
       "4  3.381186e+06  "
      ]
     },
     "execution_count": 261,
     "metadata": {},
     "output_type": "execute_result"
    }
   ],
   "source": [
    "foresland_demand_by_measure = foresland_demand[foresland_demand['Unit of measure'] == 'Milligrams']\n",
    "foresland_demand_by_measure.head(5)"
   ]
  },
  {
   "cell_type": "code",
   "execution_count": 262,
   "metadata": {},
   "outputs": [
    {
     "data": {
      "text/html": [
       "<div>\n",
       "<style scoped>\n",
       "    .dataframe tbody tr th:only-of-type {\n",
       "        vertical-align: middle;\n",
       "    }\n",
       "\n",
       "    .dataframe tbody tr th {\n",
       "        vertical-align: top;\n",
       "    }\n",
       "\n",
       "    .dataframe thead th {\n",
       "        text-align: right;\n",
       "    }\n",
       "</style>\n",
       "<table border=\"1\" class=\"dataframe\">\n",
       "  <thead>\n",
       "    <tr style=\"text-align: right;\">\n",
       "      <th></th>\n",
       "      <th>Country</th>\n",
       "      <th>Product</th>\n",
       "      <th>Data type</th>\n",
       "      <th>Unit of measure</th>\n",
       "      <th>Date</th>\n",
       "      <th>Value</th>\n",
       "    </tr>\n",
       "  </thead>\n",
       "  <tbody>\n",
       "    <tr>\n",
       "      <th>25</th>\n",
       "      <td>Floresland</td>\n",
       "      <td>INNOVIX</td>\n",
       "      <td>Demand volumes</td>\n",
       "      <td>Month of treatment</td>\n",
       "      <td>2020-08-01</td>\n",
       "      <td>7135.4428</td>\n",
       "    </tr>\n",
       "    <tr>\n",
       "      <th>26</th>\n",
       "      <td>Floresland</td>\n",
       "      <td>INNOVIX</td>\n",
       "      <td>Demand volumes</td>\n",
       "      <td>Month of treatment</td>\n",
       "      <td>2020-09-01</td>\n",
       "      <td>7825.0070</td>\n",
       "    </tr>\n",
       "    <tr>\n",
       "      <th>27</th>\n",
       "      <td>Floresland</td>\n",
       "      <td>INNOVIX</td>\n",
       "      <td>Demand volumes</td>\n",
       "      <td>Month of treatment</td>\n",
       "      <td>2020-10-01</td>\n",
       "      <td>8191.0239</td>\n",
       "    </tr>\n",
       "    <tr>\n",
       "      <th>28</th>\n",
       "      <td>Floresland</td>\n",
       "      <td>INNOVIX</td>\n",
       "      <td>Demand volumes</td>\n",
       "      <td>Month of treatment</td>\n",
       "      <td>2020-11-01</td>\n",
       "      <td>7232.5730</td>\n",
       "    </tr>\n",
       "    <tr>\n",
       "      <th>29</th>\n",
       "      <td>Floresland</td>\n",
       "      <td>INNOVIX</td>\n",
       "      <td>Demand volumes</td>\n",
       "      <td>Month of treatment</td>\n",
       "      <td>2020-12-01</td>\n",
       "      <td>7152.7927</td>\n",
       "    </tr>\n",
       "  </tbody>\n",
       "</table>\n",
       "</div>"
      ],
      "text/plain": [
       "       Country  Product       Data type     Unit of measure       Date   \n",
       "25  Floresland  INNOVIX  Demand volumes  Month of treatment 2020-08-01  \\\n",
       "26  Floresland  INNOVIX  Demand volumes  Month of treatment 2020-09-01   \n",
       "27  Floresland  INNOVIX  Demand volumes  Month of treatment 2020-10-01   \n",
       "28  Floresland  INNOVIX  Demand volumes  Month of treatment 2020-11-01   \n",
       "29  Floresland  INNOVIX  Demand volumes  Month of treatment 2020-12-01   \n",
       "\n",
       "        Value  \n",
       "25  7135.4428  \n",
       "26  7825.0070  \n",
       "27  8191.0239  \n",
       "28  7232.5730  \n",
       "29  7152.7927  "
      ]
     },
     "execution_count": 262,
     "metadata": {},
     "output_type": "execute_result"
    }
   ],
   "source": [
    "foresland_demand_by_month_treatment = foresland_demand[foresland_demand['Unit of measure'] == 'Month of treatment']\n",
    "foresland_demand_by_month_treatment.head(5)"
   ]
  },
  {
   "cell_type": "code",
   "execution_count": 263,
   "metadata": {},
   "outputs": [],
   "source": [
    "foresland_dmonth_treatment_Innovix = foresland_demand_by_month_treatment[foresland_demand_by_month_treatment['Product'] == 'INNOVIX']\n",
    "foresland_dmonth_treatment_Yrex = foresland_demand_by_month_treatment[foresland_demand_by_month_treatment['Product'] == 'YREX']"
   ]
  },
  {
   "cell_type": "code",
   "execution_count": 264,
   "metadata": {},
   "outputs": [
    {
     "name": "stderr",
     "output_type": "stream",
     "text": [
      "C:\\Users\\Usuari\\AppData\\Local\\Temp\\ipykernel_17456\\590114277.py:1: SettingWithCopyWarning: \n",
      "A value is trying to be set on a copy of a slice from a DataFrame\n",
      "\n",
      "See the caveats in the documentation: https://pandas.pydata.org/pandas-docs/stable/user_guide/indexing.html#returning-a-view-versus-a-copy\n",
      "  foresland_dmonth_treatment_Innovix.drop(columns=['Data type', 'Unit of measure'], inplace=True)\n",
      "C:\\Users\\Usuari\\AppData\\Local\\Temp\\ipykernel_17456\\590114277.py:3: SettingWithCopyWarning: \n",
      "A value is trying to be set on a copy of a slice from a DataFrame\n",
      "\n",
      "See the caveats in the documentation: https://pandas.pydata.org/pandas-docs/stable/user_guide/indexing.html#returning-a-view-versus-a-copy\n",
      "  foresland_dmonth_treatment_Yrex .drop(columns=columns_to_drop, inplace=True)\n"
     ]
    }
   ],
   "source": [
    "foresland_dmonth_treatment_Innovix.drop(columns=['Data type', 'Unit of measure'], inplace=True)\n",
    "columns_to_drop = ['Country', 'Product', 'Data type', 'Unit of measure']\n",
    "foresland_dmonth_treatment_Yrex .drop(columns=columns_to_drop, inplace=True)"
   ]
  },
  {
   "cell_type": "code",
   "execution_count": 265,
   "metadata": {},
   "outputs": [],
   "source": [
    "foresland_dmonth_treatment_Innovix = foresland_dmonth_treatment_Innovix.rename(columns={\n",
    "    'Value': 'MonthlyTreatment'\n",
    "})\n",
    "\n",
    "foresland_dmonth_treatment_Yrex = foresland_dmonth_treatment_Yrex.rename(columns={\n",
    "    'Value': 'YrexMonthlyTreatment'\n",
    "})"
   ]
  },
  {
   "cell_type": "code",
   "execution_count": 266,
   "metadata": {},
   "outputs": [],
   "source": [
    "foresland_final_demand = foresland_dmonth_treatment_Innovix.merge(right=foresland_dmonth_treatment_Yrex, on='Date')"
   ]
  },
  {
   "cell_type": "code",
   "execution_count": 267,
   "metadata": {},
   "outputs": [
    {
     "data": {
      "text/html": [
       "<div>\n",
       "<style scoped>\n",
       "    .dataframe tbody tr th:only-of-type {\n",
       "        vertical-align: middle;\n",
       "    }\n",
       "\n",
       "    .dataframe tbody tr th {\n",
       "        vertical-align: top;\n",
       "    }\n",
       "\n",
       "    .dataframe thead th {\n",
       "        text-align: right;\n",
       "    }\n",
       "</style>\n",
       "<table border=\"1\" class=\"dataframe\">\n",
       "  <thead>\n",
       "    <tr style=\"text-align: right;\">\n",
       "      <th></th>\n",
       "      <th>Country</th>\n",
       "      <th>Product</th>\n",
       "      <th>Date</th>\n",
       "      <th>MonthlyTreatment</th>\n",
       "      <th>YrexMonthlyTreatment</th>\n",
       "    </tr>\n",
       "  </thead>\n",
       "  <tbody>\n",
       "    <tr>\n",
       "      <th>0</th>\n",
       "      <td>Floresland</td>\n",
       "      <td>INNOVIX</td>\n",
       "      <td>2020-08-01</td>\n",
       "      <td>7135.4428</td>\n",
       "      <td>8755.6500</td>\n",
       "    </tr>\n",
       "    <tr>\n",
       "      <th>1</th>\n",
       "      <td>Floresland</td>\n",
       "      <td>INNOVIX</td>\n",
       "      <td>2020-09-01</td>\n",
       "      <td>7825.0070</td>\n",
       "      <td>9645.6619</td>\n",
       "    </tr>\n",
       "    <tr>\n",
       "      <th>2</th>\n",
       "      <td>Floresland</td>\n",
       "      <td>INNOVIX</td>\n",
       "      <td>2020-10-01</td>\n",
       "      <td>8191.0239</td>\n",
       "      <td>11365.3433</td>\n",
       "    </tr>\n",
       "    <tr>\n",
       "      <th>3</th>\n",
       "      <td>Floresland</td>\n",
       "      <td>INNOVIX</td>\n",
       "      <td>2020-11-01</td>\n",
       "      <td>7232.5730</td>\n",
       "      <td>10154.6358</td>\n",
       "    </tr>\n",
       "    <tr>\n",
       "      <th>4</th>\n",
       "      <td>Floresland</td>\n",
       "      <td>INNOVIX</td>\n",
       "      <td>2020-12-01</td>\n",
       "      <td>7152.7927</td>\n",
       "      <td>10652.5738</td>\n",
       "    </tr>\n",
       "    <tr>\n",
       "      <th>5</th>\n",
       "      <td>Floresland</td>\n",
       "      <td>INNOVIX</td>\n",
       "      <td>2021-01-01</td>\n",
       "      <td>8835.9182</td>\n",
       "      <td>12404.6696</td>\n",
       "    </tr>\n",
       "    <tr>\n",
       "      <th>6</th>\n",
       "      <td>Floresland</td>\n",
       "      <td>INNOVIX</td>\n",
       "      <td>2021-02-01</td>\n",
       "      <td>6574.1432</td>\n",
       "      <td>10952.5781</td>\n",
       "    </tr>\n",
       "    <tr>\n",
       "      <th>7</th>\n",
       "      <td>Floresland</td>\n",
       "      <td>INNOVIX</td>\n",
       "      <td>2021-03-01</td>\n",
       "      <td>8410.0409</td>\n",
       "      <td>12962.2640</td>\n",
       "    </tr>\n",
       "    <tr>\n",
       "      <th>8</th>\n",
       "      <td>Floresland</td>\n",
       "      <td>INNOVIX</td>\n",
       "      <td>2021-04-01</td>\n",
       "      <td>7323.1211</td>\n",
       "      <td>13179.1638</td>\n",
       "    </tr>\n",
       "    <tr>\n",
       "      <th>9</th>\n",
       "      <td>Floresland</td>\n",
       "      <td>INNOVIX</td>\n",
       "      <td>2021-05-01</td>\n",
       "      <td>7395.9758</td>\n",
       "      <td>12206.0452</td>\n",
       "    </tr>\n",
       "  </tbody>\n",
       "</table>\n",
       "</div>"
      ],
      "text/plain": [
       "      Country  Product       Date  MonthlyTreatment  YrexMonthlyTreatment\n",
       "0  Floresland  INNOVIX 2020-08-01         7135.4428             8755.6500\n",
       "1  Floresland  INNOVIX 2020-09-01         7825.0070             9645.6619\n",
       "2  Floresland  INNOVIX 2020-10-01         8191.0239            11365.3433\n",
       "3  Floresland  INNOVIX 2020-11-01         7232.5730            10154.6358\n",
       "4  Floresland  INNOVIX 2020-12-01         7152.7927            10652.5738\n",
       "5  Floresland  INNOVIX 2021-01-01         8835.9182            12404.6696\n",
       "6  Floresland  INNOVIX 2021-02-01         6574.1432            10952.5781\n",
       "7  Floresland  INNOVIX 2021-03-01         8410.0409            12962.2640\n",
       "8  Floresland  INNOVIX 2021-04-01         7323.1211            13179.1638\n",
       "9  Floresland  INNOVIX 2021-05-01         7395.9758            12206.0452"
      ]
     },
     "execution_count": 267,
     "metadata": {},
     "output_type": "execute_result"
    }
   ],
   "source": [
    "foresland_final_demand.head(10)"
   ]
  },
  {
   "cell_type": "code",
   "execution_count": 268,
   "metadata": {},
   "outputs": [],
   "source": [
    "columns_to_drop = ['Country', 'Product', 'Data type', 'Unit of measure']\n",
    "foresland_exfactor .drop(columns=columns_to_drop, inplace=True)"
   ]
  },
  {
   "cell_type": "code",
   "execution_count": 269,
   "metadata": {},
   "outputs": [],
   "source": [
    "foresland_demand_exfactor= foresland_final_demand.merge(right=foresland_exfactor, on='Date', how='left')"
   ]
  },
  {
   "cell_type": "code",
   "execution_count": 270,
   "metadata": {},
   "outputs": [
    {
     "data": {
      "text/html": [
       "<div>\n",
       "<style scoped>\n",
       "    .dataframe tbody tr th:only-of-type {\n",
       "        vertical-align: middle;\n",
       "    }\n",
       "\n",
       "    .dataframe tbody tr th {\n",
       "        vertical-align: top;\n",
       "    }\n",
       "\n",
       "    .dataframe thead th {\n",
       "        text-align: right;\n",
       "    }\n",
       "</style>\n",
       "<table border=\"1\" class=\"dataframe\">\n",
       "  <thead>\n",
       "    <tr style=\"text-align: right;\">\n",
       "      <th></th>\n",
       "      <th>Country</th>\n",
       "      <th>Product</th>\n",
       "      <th>Date</th>\n",
       "      <th>MonthlyTreatment</th>\n",
       "      <th>YrexMonthlyTreatment</th>\n",
       "      <th>Value</th>\n",
       "    </tr>\n",
       "  </thead>\n",
       "  <tbody>\n",
       "    <tr>\n",
       "      <th>0</th>\n",
       "      <td>Floresland</td>\n",
       "      <td>INNOVIX</td>\n",
       "      <td>2020-08-01</td>\n",
       "      <td>7135.4428</td>\n",
       "      <td>8755.6500</td>\n",
       "      <td>3657300</td>\n",
       "    </tr>\n",
       "    <tr>\n",
       "      <th>1</th>\n",
       "      <td>Floresland</td>\n",
       "      <td>INNOVIX</td>\n",
       "      <td>2020-09-01</td>\n",
       "      <td>7825.0070</td>\n",
       "      <td>9645.6619</td>\n",
       "      <td>3970760</td>\n",
       "    </tr>\n",
       "    <tr>\n",
       "      <th>2</th>\n",
       "      <td>Floresland</td>\n",
       "      <td>INNOVIX</td>\n",
       "      <td>2020-10-01</td>\n",
       "      <td>8191.0239</td>\n",
       "      <td>11365.3433</td>\n",
       "      <td>4102640</td>\n",
       "    </tr>\n",
       "    <tr>\n",
       "      <th>3</th>\n",
       "      <td>Floresland</td>\n",
       "      <td>INNOVIX</td>\n",
       "      <td>2020-11-01</td>\n",
       "      <td>7232.5730</td>\n",
       "      <td>10154.6358</td>\n",
       "      <td>3661520</td>\n",
       "    </tr>\n",
       "    <tr>\n",
       "      <th>4</th>\n",
       "      <td>Floresland</td>\n",
       "      <td>INNOVIX</td>\n",
       "      <td>2020-12-01</td>\n",
       "      <td>7152.7927</td>\n",
       "      <td>10652.5738</td>\n",
       "      <td>3601940</td>\n",
       "    </tr>\n",
       "    <tr>\n",
       "      <th>5</th>\n",
       "      <td>Floresland</td>\n",
       "      <td>INNOVIX</td>\n",
       "      <td>2021-01-01</td>\n",
       "      <td>8835.9182</td>\n",
       "      <td>12404.6696</td>\n",
       "      <td>4452420</td>\n",
       "    </tr>\n",
       "    <tr>\n",
       "      <th>6</th>\n",
       "      <td>Floresland</td>\n",
       "      <td>INNOVIX</td>\n",
       "      <td>2021-02-01</td>\n",
       "      <td>6574.1432</td>\n",
       "      <td>10952.5781</td>\n",
       "      <td>3362140</td>\n",
       "    </tr>\n",
       "    <tr>\n",
       "      <th>7</th>\n",
       "      <td>Floresland</td>\n",
       "      <td>INNOVIX</td>\n",
       "      <td>2021-03-01</td>\n",
       "      <td>8410.0409</td>\n",
       "      <td>12962.2640</td>\n",
       "      <td>4280840</td>\n",
       "    </tr>\n",
       "    <tr>\n",
       "      <th>8</th>\n",
       "      <td>Floresland</td>\n",
       "      <td>INNOVIX</td>\n",
       "      <td>2021-04-01</td>\n",
       "      <td>7323.1211</td>\n",
       "      <td>13179.1638</td>\n",
       "      <td>3778260</td>\n",
       "    </tr>\n",
       "    <tr>\n",
       "      <th>9</th>\n",
       "      <td>Floresland</td>\n",
       "      <td>INNOVIX</td>\n",
       "      <td>2021-05-01</td>\n",
       "      <td>7395.9758</td>\n",
       "      <td>12206.0452</td>\n",
       "      <td>3836240</td>\n",
       "    </tr>\n",
       "  </tbody>\n",
       "</table>\n",
       "</div>"
      ],
      "text/plain": [
       "      Country  Product       Date  MonthlyTreatment  YrexMonthlyTreatment   \n",
       "0  Floresland  INNOVIX 2020-08-01         7135.4428             8755.6500  \\\n",
       "1  Floresland  INNOVIX 2020-09-01         7825.0070             9645.6619   \n",
       "2  Floresland  INNOVIX 2020-10-01         8191.0239            11365.3433   \n",
       "3  Floresland  INNOVIX 2020-11-01         7232.5730            10154.6358   \n",
       "4  Floresland  INNOVIX 2020-12-01         7152.7927            10652.5738   \n",
       "5  Floresland  INNOVIX 2021-01-01         8835.9182            12404.6696   \n",
       "6  Floresland  INNOVIX 2021-02-01         6574.1432            10952.5781   \n",
       "7  Floresland  INNOVIX 2021-03-01         8410.0409            12962.2640   \n",
       "8  Floresland  INNOVIX 2021-04-01         7323.1211            13179.1638   \n",
       "9  Floresland  INNOVIX 2021-05-01         7395.9758            12206.0452   \n",
       "\n",
       "     Value  \n",
       "0  3657300  \n",
       "1  3970760  \n",
       "2  4102640  \n",
       "3  3661520  \n",
       "4  3601940  \n",
       "5  4452420  \n",
       "6  3362140  \n",
       "7  4280840  \n",
       "8  3778260  \n",
       "9  3836240  "
      ]
     },
     "execution_count": 270,
     "metadata": {},
     "output_type": "execute_result"
    }
   ],
   "source": [
    "foresland_demand_exfactor.head(10)"
   ]
  },
  {
   "cell_type": "code",
   "execution_count": 271,
   "metadata": {},
   "outputs": [
    {
     "data": {
      "text/html": [
       "<div>\n",
       "<style scoped>\n",
       "    .dataframe tbody tr th:only-of-type {\n",
       "        vertical-align: middle;\n",
       "    }\n",
       "\n",
       "    .dataframe tbody tr th {\n",
       "        vertical-align: top;\n",
       "    }\n",
       "\n",
       "    .dataframe thead th {\n",
       "        text-align: right;\n",
       "    }\n",
       "</style>\n",
       "<table border=\"1\" class=\"dataframe\">\n",
       "  <thead>\n",
       "    <tr style=\"text-align: right;\">\n",
       "      <th></th>\n",
       "      <th>Country</th>\n",
       "      <th>Product</th>\n",
       "      <th>Data type</th>\n",
       "      <th>Indication</th>\n",
       "      <th>Sub-Indication</th>\n",
       "      <th>Date</th>\n",
       "      <th>Value</th>\n",
       "    </tr>\n",
       "  </thead>\n",
       "  <tbody>\n",
       "    <tr>\n",
       "      <th>0</th>\n",
       "      <td>Floresland</td>\n",
       "      <td>INNOVIX</td>\n",
       "      <td>Indication split</td>\n",
       "      <td>Indication 20</td>\n",
       "      <td>Indication 20</td>\n",
       "      <td>2020-01-01</td>\n",
       "      <td>0.039196</td>\n",
       "    </tr>\n",
       "    <tr>\n",
       "      <th>1</th>\n",
       "      <td>Floresland</td>\n",
       "      <td>INNOVIX</td>\n",
       "      <td>Indication split</td>\n",
       "      <td>Indication 20</td>\n",
       "      <td>Indication 20</td>\n",
       "      <td>2020-02-01</td>\n",
       "      <td>0.029073</td>\n",
       "    </tr>\n",
       "    <tr>\n",
       "      <th>2</th>\n",
       "      <td>Floresland</td>\n",
       "      <td>INNOVIX</td>\n",
       "      <td>Indication split</td>\n",
       "      <td>Indication 20</td>\n",
       "      <td>Indication 20</td>\n",
       "      <td>2020-03-01</td>\n",
       "      <td>0.046117</td>\n",
       "    </tr>\n",
       "    <tr>\n",
       "      <th>3</th>\n",
       "      <td>Floresland</td>\n",
       "      <td>INNOVIX</td>\n",
       "      <td>Indication split</td>\n",
       "      <td>Indication 20</td>\n",
       "      <td>Indication 20</td>\n",
       "      <td>2020-04-01</td>\n",
       "      <td>0.030099</td>\n",
       "    </tr>\n",
       "    <tr>\n",
       "      <th>4</th>\n",
       "      <td>Floresland</td>\n",
       "      <td>INNOVIX</td>\n",
       "      <td>Indication split</td>\n",
       "      <td>Indication 20</td>\n",
       "      <td>Indication 20</td>\n",
       "      <td>2020-05-01</td>\n",
       "      <td>0.038101</td>\n",
       "    </tr>\n",
       "  </tbody>\n",
       "</table>\n",
       "</div>"
      ],
      "text/plain": [
       "      Country  Product         Data type     Indication Sub-Indication   \n",
       "0  Floresland  INNOVIX  Indication split  Indication 20  Indication 20  \\\n",
       "1  Floresland  INNOVIX  Indication split  Indication 20  Indication 20   \n",
       "2  Floresland  INNOVIX  Indication split  Indication 20  Indication 20   \n",
       "3  Floresland  INNOVIX  Indication split  Indication 20  Indication 20   \n",
       "4  Floresland  INNOVIX  Indication split  Indication 20  Indication 20   \n",
       "\n",
       "        Date     Value  \n",
       "0 2020-01-01  0.039196  \n",
       "1 2020-02-01  0.029073  \n",
       "2 2020-03-01  0.046117  \n",
       "3 2020-04-01  0.030099  \n",
       "4 2020-05-01  0.038101  "
      ]
     },
     "execution_count": 271,
     "metadata": {},
     "output_type": "execute_result"
    }
   ],
   "source": [
    "foresland_indication = pd.read_excel(Floresland_path, sheet_name='Indication split')\n",
    "foresland_indication.head()"
   ]
  },
  {
   "cell_type": "code",
   "execution_count": 272,
   "metadata": {},
   "outputs": [
    {
     "name": "stderr",
     "output_type": "stream",
     "text": [
      "C:\\Users\\Usuari\\AppData\\Local\\Temp\\ipykernel_17456\\1658639198.py:3: SettingWithCopyWarning: \n",
      "A value is trying to be set on a copy of a slice from a DataFrame\n",
      "\n",
      "See the caveats in the documentation: https://pandas.pydata.org/pandas-docs/stable/user_guide/indexing.html#returning-a-view-versus-a-copy\n",
      "  foresland_ind_yrex.drop(columns=['Product'], inplace=True)\n"
     ]
    }
   ],
   "source": [
    "foresland_ind_innovix = foresland_indication[foresland_indication['Product'] == 'INNOVIX']\n",
    "foresland_ind_yrex = foresland_indication[foresland_indication['Product'] == 'YREX']\n",
    "foresland_ind_yrex.drop(columns=['Product'], inplace=True)\n"
   ]
  },
  {
   "cell_type": "code",
   "execution_count": 273,
   "metadata": {},
   "outputs": [
    {
     "data": {
      "text/html": [
       "<div>\n",
       "<style scoped>\n",
       "    .dataframe tbody tr th:only-of-type {\n",
       "        vertical-align: middle;\n",
       "    }\n",
       "\n",
       "    .dataframe tbody tr th {\n",
       "        vertical-align: top;\n",
       "    }\n",
       "\n",
       "    .dataframe thead th {\n",
       "        text-align: right;\n",
       "    }\n",
       "</style>\n",
       "<table border=\"1\" class=\"dataframe\">\n",
       "  <thead>\n",
       "    <tr style=\"text-align: right;\">\n",
       "      <th></th>\n",
       "      <th>Country</th>\n",
       "      <th>Data type</th>\n",
       "      <th>Indication</th>\n",
       "      <th>Sub-Indication</th>\n",
       "      <th>Date</th>\n",
       "      <th>Value</th>\n",
       "    </tr>\n",
       "  </thead>\n",
       "  <tbody>\n",
       "    <tr>\n",
       "      <th>605</th>\n",
       "      <td>Floresland</td>\n",
       "      <td>Indication split</td>\n",
       "      <td>Indication 20</td>\n",
       "      <td>Indication 20</td>\n",
       "      <td>2020-01-01</td>\n",
       "      <td>0.017272</td>\n",
       "    </tr>\n",
       "    <tr>\n",
       "      <th>606</th>\n",
       "      <td>Floresland</td>\n",
       "      <td>Indication split</td>\n",
       "      <td>Indication 20</td>\n",
       "      <td>Indication 20</td>\n",
       "      <td>2020-02-01</td>\n",
       "      <td>0.024311</td>\n",
       "    </tr>\n",
       "    <tr>\n",
       "      <th>607</th>\n",
       "      <td>Floresland</td>\n",
       "      <td>Indication split</td>\n",
       "      <td>Indication 20</td>\n",
       "      <td>Indication 20</td>\n",
       "      <td>2020-03-01</td>\n",
       "      <td>0.026775</td>\n",
       "    </tr>\n",
       "    <tr>\n",
       "      <th>608</th>\n",
       "      <td>Floresland</td>\n",
       "      <td>Indication split</td>\n",
       "      <td>Indication 20</td>\n",
       "      <td>Indication 20</td>\n",
       "      <td>2020-04-01</td>\n",
       "      <td>0.014286</td>\n",
       "    </tr>\n",
       "    <tr>\n",
       "      <th>609</th>\n",
       "      <td>Floresland</td>\n",
       "      <td>Indication split</td>\n",
       "      <td>Indication 20</td>\n",
       "      <td>Indication 20</td>\n",
       "      <td>2020-05-01</td>\n",
       "      <td>0.034734</td>\n",
       "    </tr>\n",
       "  </tbody>\n",
       "</table>\n",
       "</div>"
      ],
      "text/plain": [
       "        Country         Data type     Indication Sub-Indication       Date   \n",
       "605  Floresland  Indication split  Indication 20  Indication 20 2020-01-01  \\\n",
       "606  Floresland  Indication split  Indication 20  Indication 20 2020-02-01   \n",
       "607  Floresland  Indication split  Indication 20  Indication 20 2020-03-01   \n",
       "608  Floresland  Indication split  Indication 20  Indication 20 2020-04-01   \n",
       "609  Floresland  Indication split  Indication 20  Indication 20 2020-05-01   \n",
       "\n",
       "        Value  \n",
       "605  0.017272  \n",
       "606  0.024311  \n",
       "607  0.026775  \n",
       "608  0.014286  \n",
       "609  0.034734  "
      ]
     },
     "execution_count": 273,
     "metadata": {},
     "output_type": "execute_result"
    }
   ],
   "source": [
    "foresland_ind_yrex.head()"
   ]
  },
  {
   "cell_type": "code",
   "execution_count": 274,
   "metadata": {},
   "outputs": [],
   "source": [
    "foresland_final_indications = foresland_ind_innovix.merge(on=['Country','Data type','Date', 'Indication', 'Sub-Indication'], right = foresland_ind_yrex, how='left')"
   ]
  },
  {
   "cell_type": "code",
   "execution_count": 275,
   "metadata": {},
   "outputs": [],
   "source": [
    "# foresland_cleaned_indications = foresland_final_indications[~(((foresland_final_indications['Indication'] == 'Indication 15') & (foresland_final_indications['Sub-Indication'] == 'Indication 15')) |\n",
    "#                  ((foresland_final_indications['Indication'] == 'Indication 19') & (foresland_final_indications['Sub-Indication'] == 'Indication 19')))]\n"
   ]
  },
  {
   "cell_type": "code",
   "execution_count": 276,
   "metadata": {},
   "outputs": [],
   "source": [
    "foresland_cleaned_indications = foresland_final_indications.rename(columns={\n",
    "    'Value_x': 'PatientsDescribed',\n",
    "    'Value_y': 'YrexPatientsDescribed',\n",
    "})"
   ]
  },
  {
   "cell_type": "code",
   "execution_count": null,
   "metadata": {},
   "outputs": [
    {
     "data": {
      "text/html": [
       "<div>\n",
       "<style scoped>\n",
       "    .dataframe tbody tr th:only-of-type {\n",
       "        vertical-align: middle;\n",
       "    }\n",
       "\n",
       "    .dataframe tbody tr th {\n",
       "        vertical-align: top;\n",
       "    }\n",
       "\n",
       "    .dataframe thead th {\n",
       "        text-align: right;\n",
       "    }\n",
       "</style>\n",
       "<table border=\"1\" class=\"dataframe\">\n",
       "  <thead>\n",
       "    <tr style=\"text-align: right;\">\n",
       "      <th></th>\n",
       "      <th>Country</th>\n",
       "      <th>Product</th>\n",
       "      <th>Date</th>\n",
       "      <th>MonthlyTreatment</th>\n",
       "      <th>YrexMonthlyTreatment</th>\n",
       "      <th>Value</th>\n",
       "      <th>Data type</th>\n",
       "      <th>Indication</th>\n",
       "      <th>Sub-Indication</th>\n",
       "      <th>PatientsDescribed</th>\n",
       "      <th>YrexPatientsDescribed</th>\n",
       "    </tr>\n",
       "  </thead>\n",
       "  <tbody>\n",
       "    <tr>\n",
       "      <th>0</th>\n",
       "      <td>Floresland</td>\n",
       "      <td>INNOVIX</td>\n",
       "      <td>2020-08-01</td>\n",
       "      <td>7135.4428</td>\n",
       "      <td>8755.65</td>\n",
       "      <td>3657300</td>\n",
       "      <td>Indication split</td>\n",
       "      <td>Indication 20</td>\n",
       "      <td>Indication 20</td>\n",
       "      <td>0.036738</td>\n",
       "      <td>0.020889</td>\n",
       "    </tr>\n",
       "    <tr>\n",
       "      <th>1</th>\n",
       "      <td>Floresland</td>\n",
       "      <td>INNOVIX</td>\n",
       "      <td>2020-08-01</td>\n",
       "      <td>7135.4428</td>\n",
       "      <td>8755.65</td>\n",
       "      <td>3657300</td>\n",
       "      <td>Indication split</td>\n",
       "      <td>Indication 14</td>\n",
       "      <td>Indication 14</td>\n",
       "      <td>0.000000</td>\n",
       "      <td>0.000000</td>\n",
       "    </tr>\n",
       "    <tr>\n",
       "      <th>2</th>\n",
       "      <td>Floresland</td>\n",
       "      <td>INNOVIX</td>\n",
       "      <td>2020-08-01</td>\n",
       "      <td>7135.4428</td>\n",
       "      <td>8755.65</td>\n",
       "      <td>3657300</td>\n",
       "      <td>Indication split</td>\n",
       "      <td>Indication 12</td>\n",
       "      <td>Indication 12</td>\n",
       "      <td>0.107965</td>\n",
       "      <td>0.001071</td>\n",
       "    </tr>\n",
       "    <tr>\n",
       "      <th>3</th>\n",
       "      <td>Floresland</td>\n",
       "      <td>INNOVIX</td>\n",
       "      <td>2020-08-01</td>\n",
       "      <td>7135.4428</td>\n",
       "      <td>8755.65</td>\n",
       "      <td>3657300</td>\n",
       "      <td>Indication split</td>\n",
       "      <td>Indication 1</td>\n",
       "      <td>Indication 1</td>\n",
       "      <td>0.000000</td>\n",
       "      <td>0.075094</td>\n",
       "    </tr>\n",
       "    <tr>\n",
       "      <th>4</th>\n",
       "      <td>Floresland</td>\n",
       "      <td>INNOVIX</td>\n",
       "      <td>2020-08-01</td>\n",
       "      <td>7135.4428</td>\n",
       "      <td>8755.65</td>\n",
       "      <td>3657300</td>\n",
       "      <td>Indication split</td>\n",
       "      <td>Indication 23</td>\n",
       "      <td>Indication 23</td>\n",
       "      <td>0.159120</td>\n",
       "      <td>0.020139</td>\n",
       "    </tr>\n",
       "  </tbody>\n",
       "</table>\n",
       "</div>"
      ],
      "text/plain": [
       "      Country  Product       Date  MonthlyTreatment  YrexMonthlyTreatment   \n",
       "0  Floresland  INNOVIX 2020-08-01         7135.4428               8755.65  \\\n",
       "1  Floresland  INNOVIX 2020-08-01         7135.4428               8755.65   \n",
       "2  Floresland  INNOVIX 2020-08-01         7135.4428               8755.65   \n",
       "3  Floresland  INNOVIX 2020-08-01         7135.4428               8755.65   \n",
       "4  Floresland  INNOVIX 2020-08-01         7135.4428               8755.65   \n",
       "\n",
       "     Value         Data type     Indication Sub-Indication  PatientsDescribed   \n",
       "0  3657300  Indication split  Indication 20  Indication 20           0.036738  \\\n",
       "1  3657300  Indication split  Indication 14  Indication 14           0.000000   \n",
       "2  3657300  Indication split  Indication 12  Indication 12           0.107965   \n",
       "3  3657300  Indication split   Indication 1   Indication 1           0.000000   \n",
       "4  3657300  Indication split  Indication 23  Indication 23           0.159120   \n",
       "\n",
       "   YrexPatientsDescribed  \n",
       "0               0.020889  \n",
       "1               0.000000  \n",
       "2               0.001071  \n",
       "3               0.075094  \n",
       "4               0.020139  "
      ]
     },
     "execution_count": 277,
     "metadata": {},
     "output_type": "execute_result"
    }
   ],
   "source": [
    "final_foresland = foresland_demand_exfactor.merge(on=['Product', 'Country','Date'], right=foresland_cleaned_indications)\n",
    "final_foresland.head() "
   ]
  },
  {
   "cell_type": "code",
   "execution_count": 278,
   "metadata": {},
   "outputs": [],
   "source": [
    "final_foresland.to_csv(\"final_foresland.csv\")"
   ]
  },
  {
   "cell_type": "markdown",
   "metadata": {},
   "source": [
    "#### Not needed"
   ]
  },
  {
   "cell_type": "markdown",
   "metadata": {},
   "source": [
    "## Elbonie"
   ]
  },
  {
   "cell_type": "code",
   "execution_count": 279,
   "metadata": {},
   "outputs": [
    {
     "data": {
      "text/plain": [
       "Index(['Country', 'Product', 'Data type', 'Unit of measure', 'Date', 'Value'], dtype='object')"
      ]
     },
     "execution_count": 279,
     "metadata": {},
     "output_type": "execute_result"
    }
   ],
   "source": [
    "elbonie_demand= pd.read_excel(Elbonie_path, sheet_name='Demand volumes')\n",
    "elbonie_demand.columns"
   ]
  },
  {
   "cell_type": "code",
   "execution_count": 280,
   "metadata": {},
   "outputs": [
    {
     "data": {
      "text/html": [
       "<div>\n",
       "<style scoped>\n",
       "    .dataframe tbody tr th:only-of-type {\n",
       "        vertical-align: middle;\n",
       "    }\n",
       "\n",
       "    .dataframe tbody tr th {\n",
       "        vertical-align: top;\n",
       "    }\n",
       "\n",
       "    .dataframe thead th {\n",
       "        text-align: right;\n",
       "    }\n",
       "</style>\n",
       "<table border=\"1\" class=\"dataframe\">\n",
       "  <thead>\n",
       "    <tr style=\"text-align: right;\">\n",
       "      <th></th>\n",
       "      <th>Country</th>\n",
       "      <th>Product</th>\n",
       "      <th>Data type</th>\n",
       "      <th>Unit of measure</th>\n",
       "      <th>Date</th>\n",
       "      <th>Value</th>\n",
       "    </tr>\n",
       "  </thead>\n",
       "  <tbody>\n",
       "  </tbody>\n",
       "</table>\n",
       "</div>"
      ],
      "text/plain": [
       "Empty DataFrame\n",
       "Columns: [Country, Product, Data type, Unit of measure, Date, Value]\n",
       "Index: []"
      ]
     },
     "execution_count": 280,
     "metadata": {},
     "output_type": "execute_result"
    }
   ],
   "source": [
    "elbonie_demand_by_measure = elbonie_demand[elbonie_demand['Unit of measure'] == 'Month of treatment']\n",
    "elbonie_demand_by_measure.head(5)"
   ]
  },
  {
   "cell_type": "code",
   "execution_count": 281,
   "metadata": {},
   "outputs": [],
   "source": [
    "foresland_dmonth_treatment_Innovix = foresland_demand_by_month_treatment[foresland_demand_by_month_treatment['Product'] == 'INNOVIX']\n",
    "foresland_dmonth_treatment_Yrex = foresland_demand_by_month_treatment[foresland_demand_by_month_treatment['Product'] == 'YREX']"
   ]
  },
  {
   "cell_type": "markdown",
   "metadata": {},
   "source": [
    "here"
   ]
  },
  {
   "cell_type": "code",
   "execution_count": 282,
   "metadata": {},
   "outputs": [],
   "source": [
    "elbonie_indication = pd.read_excel(Elbonie_path, sheet_name='Indication split')"
   ]
  },
  {
   "cell_type": "code",
   "execution_count": 283,
   "metadata": {},
   "outputs": [
    {
     "name": "stderr",
     "output_type": "stream",
     "text": [
      "C:\\Users\\Usuari\\AppData\\Local\\Temp\\ipykernel_17456\\4209693616.py:3: SettingWithCopyWarning: \n",
      "A value is trying to be set on a copy of a slice from a DataFrame\n",
      "\n",
      "See the caveats in the documentation: https://pandas.pydata.org/pandas-docs/stable/user_guide/indexing.html#returning-a-view-versus-a-copy\n",
      "  elbonie_ind_yrex.drop(columns=['Product'], inplace=True)\n"
     ]
    }
   ],
   "source": [
    "elbonie_ind_innovix = elbonie_indication[elbonie_indication['Product'] == 'INNOVIX']\n",
    "elbonie_ind_yrex = elbonie_indication[elbonie_indication['Product'] == 'YREX']\n",
    "elbonie_ind_yrex.drop(columns=['Product'], inplace=True)"
   ]
  },
  {
   "cell_type": "code",
   "execution_count": 284,
   "metadata": {},
   "outputs": [
    {
     "ename": "KeyError",
     "evalue": "'Sub-Indication'",
     "output_type": "error",
     "traceback": [
      "\u001b[1;31m---------------------------------------------------------------------------\u001b[0m",
      "\u001b[1;31mKeyError\u001b[0m                                  Traceback (most recent call last)",
      "Cell \u001b[1;32mIn[284], line 1\u001b[0m\n\u001b[1;32m----> 1\u001b[0m elbonie_final_indications \u001b[38;5;241m=\u001b[39m \u001b[43melbonie_ind_innovix\u001b[49m\u001b[38;5;241;43m.\u001b[39;49m\u001b[43mmerge\u001b[49m\u001b[43m(\u001b[49m\u001b[43mon\u001b[49m\u001b[38;5;241;43m=\u001b[39;49m\u001b[43m[\u001b[49m\u001b[38;5;124;43m'\u001b[39;49m\u001b[38;5;124;43mCountry\u001b[39;49m\u001b[38;5;124;43m'\u001b[39;49m\u001b[43m,\u001b[49m\u001b[38;5;124;43m'\u001b[39;49m\u001b[38;5;124;43mData type\u001b[39;49m\u001b[38;5;124;43m'\u001b[39;49m\u001b[43m,\u001b[49m\u001b[38;5;124;43m'\u001b[39;49m\u001b[38;5;124;43mDate\u001b[39;49m\u001b[38;5;124;43m'\u001b[39;49m\u001b[43m,\u001b[49m\u001b[43m \u001b[49m\u001b[38;5;124;43m'\u001b[39;49m\u001b[38;5;124;43mIndication\u001b[39;49m\u001b[38;5;124;43m'\u001b[39;49m\u001b[43m,\u001b[49m\u001b[43m \u001b[49m\u001b[38;5;124;43m'\u001b[39;49m\u001b[38;5;124;43mSub-Indication\u001b[39;49m\u001b[38;5;124;43m'\u001b[39;49m\u001b[43m]\u001b[49m\u001b[43m,\u001b[49m\u001b[43m \u001b[49m\u001b[43mright\u001b[49m\u001b[43m \u001b[49m\u001b[38;5;241;43m=\u001b[39;49m\u001b[43m \u001b[49m\u001b[43melbonie_ind_yrex\u001b[49m\u001b[43m,\u001b[49m\u001b[43m \u001b[49m\u001b[43mhow\u001b[49m\u001b[38;5;241;43m=\u001b[39;49m\u001b[38;5;124;43m'\u001b[39;49m\u001b[38;5;124;43mleft\u001b[39;49m\u001b[38;5;124;43m'\u001b[39;49m\u001b[43m)\u001b[49m\n",
      "File \u001b[1;32mc:\\Users\\Usuari\\AppData\\Local\\Programs\\Python\\Python311\\Lib\\site-packages\\pandas\\core\\frame.py:9848\u001b[0m, in \u001b[0;36mDataFrame.merge\u001b[1;34m(self, right, how, on, left_on, right_on, left_index, right_index, sort, suffixes, copy, indicator, validate)\u001b[0m\n\u001b[0;32m   9829\u001b[0m \u001b[38;5;129m@Substitution\u001b[39m(\u001b[38;5;124m\"\u001b[39m\u001b[38;5;124m\"\u001b[39m)\n\u001b[0;32m   9830\u001b[0m \u001b[38;5;129m@Appender\u001b[39m(_merge_doc, indents\u001b[38;5;241m=\u001b[39m\u001b[38;5;241m2\u001b[39m)\n\u001b[0;32m   9831\u001b[0m \u001b[38;5;28;01mdef\u001b[39;00m \u001b[38;5;21mmerge\u001b[39m(\n\u001b[1;32m   (...)\u001b[0m\n\u001b[0;32m   9844\u001b[0m     validate: \u001b[38;5;28mstr\u001b[39m \u001b[38;5;241m|\u001b[39m \u001b[38;5;28;01mNone\u001b[39;00m \u001b[38;5;241m=\u001b[39m \u001b[38;5;28;01mNone\u001b[39;00m,\n\u001b[0;32m   9845\u001b[0m ) \u001b[38;5;241m-\u001b[39m\u001b[38;5;241m>\u001b[39m DataFrame:\n\u001b[0;32m   9846\u001b[0m     \u001b[38;5;28;01mfrom\u001b[39;00m \u001b[38;5;21;01mpandas\u001b[39;00m\u001b[38;5;21;01m.\u001b[39;00m\u001b[38;5;21;01mcore\u001b[39;00m\u001b[38;5;21;01m.\u001b[39;00m\u001b[38;5;21;01mreshape\u001b[39;00m\u001b[38;5;21;01m.\u001b[39;00m\u001b[38;5;21;01mmerge\u001b[39;00m \u001b[38;5;28;01mimport\u001b[39;00m merge\n\u001b[1;32m-> 9848\u001b[0m     \u001b[38;5;28;01mreturn\u001b[39;00m \u001b[43mmerge\u001b[49m\u001b[43m(\u001b[49m\n\u001b[0;32m   9849\u001b[0m \u001b[43m        \u001b[49m\u001b[38;5;28;43mself\u001b[39;49m\u001b[43m,\u001b[49m\n\u001b[0;32m   9850\u001b[0m \u001b[43m        \u001b[49m\u001b[43mright\u001b[49m\u001b[43m,\u001b[49m\n\u001b[0;32m   9851\u001b[0m \u001b[43m        \u001b[49m\u001b[43mhow\u001b[49m\u001b[38;5;241;43m=\u001b[39;49m\u001b[43mhow\u001b[49m\u001b[43m,\u001b[49m\n\u001b[0;32m   9852\u001b[0m \u001b[43m        \u001b[49m\u001b[43mon\u001b[49m\u001b[38;5;241;43m=\u001b[39;49m\u001b[43mon\u001b[49m\u001b[43m,\u001b[49m\n\u001b[0;32m   9853\u001b[0m \u001b[43m        \u001b[49m\u001b[43mleft_on\u001b[49m\u001b[38;5;241;43m=\u001b[39;49m\u001b[43mleft_on\u001b[49m\u001b[43m,\u001b[49m\n\u001b[0;32m   9854\u001b[0m \u001b[43m        \u001b[49m\u001b[43mright_on\u001b[49m\u001b[38;5;241;43m=\u001b[39;49m\u001b[43mright_on\u001b[49m\u001b[43m,\u001b[49m\n\u001b[0;32m   9855\u001b[0m \u001b[43m        \u001b[49m\u001b[43mleft_index\u001b[49m\u001b[38;5;241;43m=\u001b[39;49m\u001b[43mleft_index\u001b[49m\u001b[43m,\u001b[49m\n\u001b[0;32m   9856\u001b[0m \u001b[43m        \u001b[49m\u001b[43mright_index\u001b[49m\u001b[38;5;241;43m=\u001b[39;49m\u001b[43mright_index\u001b[49m\u001b[43m,\u001b[49m\n\u001b[0;32m   9857\u001b[0m \u001b[43m        \u001b[49m\u001b[43msort\u001b[49m\u001b[38;5;241;43m=\u001b[39;49m\u001b[43msort\u001b[49m\u001b[43m,\u001b[49m\n\u001b[0;32m   9858\u001b[0m \u001b[43m        \u001b[49m\u001b[43msuffixes\u001b[49m\u001b[38;5;241;43m=\u001b[39;49m\u001b[43msuffixes\u001b[49m\u001b[43m,\u001b[49m\n\u001b[0;32m   9859\u001b[0m \u001b[43m        \u001b[49m\u001b[43mcopy\u001b[49m\u001b[38;5;241;43m=\u001b[39;49m\u001b[43mcopy\u001b[49m\u001b[43m,\u001b[49m\n\u001b[0;32m   9860\u001b[0m \u001b[43m        \u001b[49m\u001b[43mindicator\u001b[49m\u001b[38;5;241;43m=\u001b[39;49m\u001b[43mindicator\u001b[49m\u001b[43m,\u001b[49m\n\u001b[0;32m   9861\u001b[0m \u001b[43m        \u001b[49m\u001b[43mvalidate\u001b[49m\u001b[38;5;241;43m=\u001b[39;49m\u001b[43mvalidate\u001b[49m\u001b[43m,\u001b[49m\n\u001b[0;32m   9862\u001b[0m \u001b[43m    \u001b[49m\u001b[43m)\u001b[49m\n",
      "File \u001b[1;32mc:\\Users\\Usuari\\AppData\\Local\\Programs\\Python\\Python311\\Lib\\site-packages\\pandas\\core\\reshape\\merge.py:144\u001b[0m, in \u001b[0;36mmerge\u001b[1;34m(left, right, how, on, left_on, right_on, left_index, right_index, sort, suffixes, copy, indicator, validate)\u001b[0m\n\u001b[0;32m    127\u001b[0m \u001b[38;5;129m@Substitution\u001b[39m(\u001b[38;5;124m\"\u001b[39m\u001b[38;5;130;01m\\n\u001b[39;00m\u001b[38;5;124mleft : DataFrame or named Series\u001b[39m\u001b[38;5;124m\"\u001b[39m)\n\u001b[0;32m    128\u001b[0m \u001b[38;5;129m@Appender\u001b[39m(_merge_doc, indents\u001b[38;5;241m=\u001b[39m\u001b[38;5;241m0\u001b[39m)\n\u001b[0;32m    129\u001b[0m \u001b[38;5;28;01mdef\u001b[39;00m \u001b[38;5;21mmerge\u001b[39m(\n\u001b[1;32m   (...)\u001b[0m\n\u001b[0;32m    142\u001b[0m     validate: \u001b[38;5;28mstr\u001b[39m \u001b[38;5;241m|\u001b[39m \u001b[38;5;28;01mNone\u001b[39;00m \u001b[38;5;241m=\u001b[39m \u001b[38;5;28;01mNone\u001b[39;00m,\n\u001b[0;32m    143\u001b[0m ) \u001b[38;5;241m-\u001b[39m\u001b[38;5;241m>\u001b[39m DataFrame:\n\u001b[1;32m--> 144\u001b[0m     op \u001b[38;5;241m=\u001b[39m \u001b[43m_MergeOperation\u001b[49m\u001b[43m(\u001b[49m\n\u001b[0;32m    145\u001b[0m \u001b[43m        \u001b[49m\u001b[43mleft\u001b[49m\u001b[43m,\u001b[49m\n\u001b[0;32m    146\u001b[0m \u001b[43m        \u001b[49m\u001b[43mright\u001b[49m\u001b[43m,\u001b[49m\n\u001b[0;32m    147\u001b[0m \u001b[43m        \u001b[49m\u001b[43mhow\u001b[49m\u001b[38;5;241;43m=\u001b[39;49m\u001b[43mhow\u001b[49m\u001b[43m,\u001b[49m\n\u001b[0;32m    148\u001b[0m \u001b[43m        \u001b[49m\u001b[43mon\u001b[49m\u001b[38;5;241;43m=\u001b[39;49m\u001b[43mon\u001b[49m\u001b[43m,\u001b[49m\n\u001b[0;32m    149\u001b[0m \u001b[43m        \u001b[49m\u001b[43mleft_on\u001b[49m\u001b[38;5;241;43m=\u001b[39;49m\u001b[43mleft_on\u001b[49m\u001b[43m,\u001b[49m\n\u001b[0;32m    150\u001b[0m \u001b[43m        \u001b[49m\u001b[43mright_on\u001b[49m\u001b[38;5;241;43m=\u001b[39;49m\u001b[43mright_on\u001b[49m\u001b[43m,\u001b[49m\n\u001b[0;32m    151\u001b[0m \u001b[43m        \u001b[49m\u001b[43mleft_index\u001b[49m\u001b[38;5;241;43m=\u001b[39;49m\u001b[43mleft_index\u001b[49m\u001b[43m,\u001b[49m\n\u001b[0;32m    152\u001b[0m \u001b[43m        \u001b[49m\u001b[43mright_index\u001b[49m\u001b[38;5;241;43m=\u001b[39;49m\u001b[43mright_index\u001b[49m\u001b[43m,\u001b[49m\n\u001b[0;32m    153\u001b[0m \u001b[43m        \u001b[49m\u001b[43msort\u001b[49m\u001b[38;5;241;43m=\u001b[39;49m\u001b[43msort\u001b[49m\u001b[43m,\u001b[49m\n\u001b[0;32m    154\u001b[0m \u001b[43m        \u001b[49m\u001b[43msuffixes\u001b[49m\u001b[38;5;241;43m=\u001b[39;49m\u001b[43msuffixes\u001b[49m\u001b[43m,\u001b[49m\n\u001b[0;32m    155\u001b[0m \u001b[43m        \u001b[49m\u001b[43mindicator\u001b[49m\u001b[38;5;241;43m=\u001b[39;49m\u001b[43mindicator\u001b[49m\u001b[43m,\u001b[49m\n\u001b[0;32m    156\u001b[0m \u001b[43m        \u001b[49m\u001b[43mvalidate\u001b[49m\u001b[38;5;241;43m=\u001b[39;49m\u001b[43mvalidate\u001b[49m\u001b[43m,\u001b[49m\n\u001b[0;32m    157\u001b[0m \u001b[43m    \u001b[49m\u001b[43m)\u001b[49m\n\u001b[0;32m    158\u001b[0m     \u001b[38;5;28;01mreturn\u001b[39;00m op\u001b[38;5;241m.\u001b[39mget_result(copy\u001b[38;5;241m=\u001b[39mcopy)\n",
      "File \u001b[1;32mc:\\Users\\Usuari\\AppData\\Local\\Programs\\Python\\Python311\\Lib\\site-packages\\pandas\\core\\reshape\\merge.py:733\u001b[0m, in \u001b[0;36m_MergeOperation.__init__\u001b[1;34m(self, left, right, how, on, left_on, right_on, axis, left_index, right_index, sort, suffixes, indicator, validate)\u001b[0m\n\u001b[0;32m    726\u001b[0m \u001b[38;5;28mself\u001b[39m\u001b[38;5;241m.\u001b[39m_cross \u001b[38;5;241m=\u001b[39m cross_col\n\u001b[0;32m    728\u001b[0m \u001b[38;5;66;03m# note this function has side effects\u001b[39;00m\n\u001b[0;32m    729\u001b[0m (\n\u001b[0;32m    730\u001b[0m     \u001b[38;5;28mself\u001b[39m\u001b[38;5;241m.\u001b[39mleft_join_keys,\n\u001b[0;32m    731\u001b[0m     \u001b[38;5;28mself\u001b[39m\u001b[38;5;241m.\u001b[39mright_join_keys,\n\u001b[0;32m    732\u001b[0m     \u001b[38;5;28mself\u001b[39m\u001b[38;5;241m.\u001b[39mjoin_names,\n\u001b[1;32m--> 733\u001b[0m ) \u001b[38;5;241m=\u001b[39m \u001b[38;5;28;43mself\u001b[39;49m\u001b[38;5;241;43m.\u001b[39;49m\u001b[43m_get_merge_keys\u001b[49m\u001b[43m(\u001b[49m\u001b[43m)\u001b[49m\n\u001b[0;32m    735\u001b[0m \u001b[38;5;66;03m# validate the merge keys dtypes. We may need to coerce\u001b[39;00m\n\u001b[0;32m    736\u001b[0m \u001b[38;5;66;03m# to avoid incompatible dtypes\u001b[39;00m\n\u001b[0;32m    737\u001b[0m \u001b[38;5;28mself\u001b[39m\u001b[38;5;241m.\u001b[39m_maybe_coerce_merge_keys()\n",
      "File \u001b[1;32mc:\\Users\\Usuari\\AppData\\Local\\Programs\\Python\\Python311\\Lib\\site-packages\\pandas\\core\\reshape\\merge.py:1191\u001b[0m, in \u001b[0;36m_MergeOperation._get_merge_keys\u001b[1;34m(self)\u001b[0m\n\u001b[0;32m   1189\u001b[0m rk \u001b[38;5;241m=\u001b[39m cast(Hashable, rk)\n\u001b[0;32m   1190\u001b[0m \u001b[38;5;28;01mif\u001b[39;00m rk \u001b[38;5;129;01mis\u001b[39;00m \u001b[38;5;129;01mnot\u001b[39;00m \u001b[38;5;28;01mNone\u001b[39;00m:\n\u001b[1;32m-> 1191\u001b[0m     right_keys\u001b[38;5;241m.\u001b[39mappend(\u001b[43mright\u001b[49m\u001b[38;5;241;43m.\u001b[39;49m\u001b[43m_get_label_or_level_values\u001b[49m\u001b[43m(\u001b[49m\u001b[43mrk\u001b[49m\u001b[43m)\u001b[49m)\n\u001b[0;32m   1192\u001b[0m \u001b[38;5;28;01melse\u001b[39;00m:\n\u001b[0;32m   1193\u001b[0m     \u001b[38;5;66;03m# work-around for merge_asof(right_index=True)\u001b[39;00m\n\u001b[0;32m   1194\u001b[0m     right_keys\u001b[38;5;241m.\u001b[39mappend(right\u001b[38;5;241m.\u001b[39mindex)\n",
      "File \u001b[1;32mc:\\Users\\Usuari\\AppData\\Local\\Programs\\Python\\Python311\\Lib\\site-packages\\pandas\\core\\generic.py:1778\u001b[0m, in \u001b[0;36mNDFrame._get_label_or_level_values\u001b[1;34m(self, key, axis)\u001b[0m\n\u001b[0;32m   1776\u001b[0m     values \u001b[38;5;241m=\u001b[39m \u001b[38;5;28mself\u001b[39m\u001b[38;5;241m.\u001b[39maxes[axis]\u001b[38;5;241m.\u001b[39mget_level_values(key)\u001b[38;5;241m.\u001b[39m_values\n\u001b[0;32m   1777\u001b[0m \u001b[38;5;28;01melse\u001b[39;00m:\n\u001b[1;32m-> 1778\u001b[0m     \u001b[38;5;28;01mraise\u001b[39;00m \u001b[38;5;167;01mKeyError\u001b[39;00m(key)\n\u001b[0;32m   1780\u001b[0m \u001b[38;5;66;03m# Check for duplicates\u001b[39;00m\n\u001b[0;32m   1781\u001b[0m \u001b[38;5;28;01mif\u001b[39;00m values\u001b[38;5;241m.\u001b[39mndim \u001b[38;5;241m>\u001b[39m \u001b[38;5;241m1\u001b[39m:\n",
      "\u001b[1;31mKeyError\u001b[0m: 'Sub-Indication'"
     ]
    }
   ],
   "source": [
    "elbonie_final_indications = elbonie_ind_innovix.merge(on=['Country','Data type','Date', 'Indication', 'Sub-Indication'], right = elbonie_ind_yrex, how='left')"
   ]
  },
  {
   "cell_type": "code",
   "execution_count": null,
   "metadata": {},
   "outputs": [],
   "source": [
    "elbonie_cleaned_indications = elbonie_final_indications[~(((elbonie_final_indications['Indication'] == 'Indication 15') & (elbonie_final_indications['Sub-Indication'] == 'Indication 15')) |\n",
    "                 ((elbonie_final_indications['Indication'] == 'Indication 19') & (elbonie_final_indications['Sub-Indication'] == 'Indication 19')))]\n"
   ]
  },
  {
   "cell_type": "code",
   "execution_count": null,
   "metadata": {},
   "outputs": [],
   "source": [
    "elbonie_cleaned_indications = elbonie_cleaned_indications.rename(columns={\n",
    "    'Value_x': 'PatientsDescribed',\n",
    "    'Value_y': 'YrexPatientsDescribed',\n",
    "})"
   ]
  },
  {
   "cell_type": "code",
   "execution_count": null,
   "metadata": {},
   "outputs": [
    {
     "data": {
      "text/html": [
       "<div>\n",
       "<style scoped>\n",
       "    .dataframe tbody tr th:only-of-type {\n",
       "        vertical-align: middle;\n",
       "    }\n",
       "\n",
       "    .dataframe tbody tr th {\n",
       "        vertical-align: top;\n",
       "    }\n",
       "\n",
       "    .dataframe thead th {\n",
       "        text-align: right;\n",
       "    }\n",
       "</style>\n",
       "<table border=\"1\" class=\"dataframe\">\n",
       "  <thead>\n",
       "    <tr style=\"text-align: right;\">\n",
       "      <th></th>\n",
       "      <th>Country</th>\n",
       "      <th>Product</th>\n",
       "      <th>Date</th>\n",
       "      <th>MonthlyTreatment</th>\n",
       "      <th>YrexMonthlyTreatment</th>\n",
       "      <th>Value</th>\n",
       "      <th>Data type</th>\n",
       "      <th>Indication</th>\n",
       "      <th>Sub-Indication</th>\n",
       "      <th>PatientsDescribed</th>\n",
       "      <th>YrexPatientsDescribed</th>\n",
       "    </tr>\n",
       "  </thead>\n",
       "  <tbody>\n",
       "    <tr>\n",
       "      <th>0</th>\n",
       "      <td>Floresland</td>\n",
       "      <td>INNOVIX</td>\n",
       "      <td>2020-08-01</td>\n",
       "      <td>7135.4428</td>\n",
       "      <td>8755.65</td>\n",
       "      <td>3657300</td>\n",
       "      <td>Indication split</td>\n",
       "      <td>Indication 20</td>\n",
       "      <td>Indication 20</td>\n",
       "      <td>0.036738</td>\n",
       "      <td>0.020889</td>\n",
       "    </tr>\n",
       "    <tr>\n",
       "      <th>1</th>\n",
       "      <td>Floresland</td>\n",
       "      <td>INNOVIX</td>\n",
       "      <td>2020-08-01</td>\n",
       "      <td>7135.4428</td>\n",
       "      <td>8755.65</td>\n",
       "      <td>3657300</td>\n",
       "      <td>Indication split</td>\n",
       "      <td>Indication 14</td>\n",
       "      <td>Indication 14</td>\n",
       "      <td>0.000000</td>\n",
       "      <td>0.000000</td>\n",
       "    </tr>\n",
       "    <tr>\n",
       "      <th>2</th>\n",
       "      <td>Floresland</td>\n",
       "      <td>INNOVIX</td>\n",
       "      <td>2020-08-01</td>\n",
       "      <td>7135.4428</td>\n",
       "      <td>8755.65</td>\n",
       "      <td>3657300</td>\n",
       "      <td>Indication split</td>\n",
       "      <td>Indication 12</td>\n",
       "      <td>Indication 12</td>\n",
       "      <td>0.107965</td>\n",
       "      <td>0.001071</td>\n",
       "    </tr>\n",
       "    <tr>\n",
       "      <th>3</th>\n",
       "      <td>Floresland</td>\n",
       "      <td>INNOVIX</td>\n",
       "      <td>2020-08-01</td>\n",
       "      <td>7135.4428</td>\n",
       "      <td>8755.65</td>\n",
       "      <td>3657300</td>\n",
       "      <td>Indication split</td>\n",
       "      <td>Indication 1</td>\n",
       "      <td>Indication 1</td>\n",
       "      <td>0.000000</td>\n",
       "      <td>0.075094</td>\n",
       "    </tr>\n",
       "    <tr>\n",
       "      <th>4</th>\n",
       "      <td>Floresland</td>\n",
       "      <td>INNOVIX</td>\n",
       "      <td>2020-08-01</td>\n",
       "      <td>7135.4428</td>\n",
       "      <td>8755.65</td>\n",
       "      <td>3657300</td>\n",
       "      <td>Indication split</td>\n",
       "      <td>Indication 23</td>\n",
       "      <td>Indication 23</td>\n",
       "      <td>0.159120</td>\n",
       "      <td>0.020139</td>\n",
       "    </tr>\n",
       "  </tbody>\n",
       "</table>\n",
       "</div>"
      ],
      "text/plain": [
       "      Country  Product       Date  MonthlyTreatment  YrexMonthlyTreatment   \n",
       "0  Floresland  INNOVIX 2020-08-01         7135.4428               8755.65  \\\n",
       "1  Floresland  INNOVIX 2020-08-01         7135.4428               8755.65   \n",
       "2  Floresland  INNOVIX 2020-08-01         7135.4428               8755.65   \n",
       "3  Floresland  INNOVIX 2020-08-01         7135.4428               8755.65   \n",
       "4  Floresland  INNOVIX 2020-08-01         7135.4428               8755.65   \n",
       "\n",
       "     Value         Data type     Indication Sub-Indication  PatientsDescribed   \n",
       "0  3657300  Indication split  Indication 20  Indication 20           0.036738  \\\n",
       "1  3657300  Indication split  Indication 14  Indication 14           0.000000   \n",
       "2  3657300  Indication split  Indication 12  Indication 12           0.107965   \n",
       "3  3657300  Indication split   Indication 1   Indication 1           0.000000   \n",
       "4  3657300  Indication split  Indication 23  Indication 23           0.159120   \n",
       "\n",
       "   YrexPatientsDescribed  \n",
       "0               0.020889  \n",
       "1               0.000000  \n",
       "2               0.001071  \n",
       "3               0.075094  \n",
       "4               0.020139  "
      ]
     },
     "execution_count": 210,
     "metadata": {},
     "output_type": "execute_result"
    }
   ],
   "source": [
    "final_df = elbonie_demand_exfactor.merge(on=['Product', 'Country','Date'], right=elbonie_cleaned_indications)\n",
    "final_df.head(5)"
   ]
  },
  {
   "cell_type": "code",
   "execution_count": null,
   "metadata": {},
   "outputs": [],
   "source": []
  }
 ],
 "metadata": {
  "kernelspec": {
   "display_name": "Python 3",
   "language": "python",
   "name": "python3"
  },
  "language_info": {
   "codemirror_mode": {
    "name": "ipython",
    "version": 3
   },
   "file_extension": ".py",
   "mimetype": "text/x-python",
   "name": "python",
   "nbconvert_exporter": "python",
   "pygments_lexer": "ipython3",
   "version": "3.11.3"
  }
 },
 "nbformat": 4,
 "nbformat_minor": 2
}
