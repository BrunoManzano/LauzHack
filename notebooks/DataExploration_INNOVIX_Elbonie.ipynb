{
 "cells": [
  {
   "cell_type": "markdown",
   "metadata": {},
   "source": [
    "# Data Exploration Notebook"
   ]
  },
  {
   "cell_type": "markdown",
   "metadata": {},
   "source": [
    "### Import necessary libraries"
   ]
  },
  {
   "cell_type": "code",
   "execution_count": 1,
   "metadata": {},
   "outputs": [],
   "source": [
    "import pandas as pd"
   ]
  },
  {
   "cell_type": "code",
   "execution_count": 9,
   "metadata": {},
   "outputs": [],
   "source": [
    "# Load the dataset\n",
    "Elbonie_path = '../data/BMS dataset/INNOVIX_Elbonie.xlsx'\n",
    "Floresland_path = '../data/BMS dataset/INNOVIX_Floresland.xlsx'\n",
    "Zegoland_path = '../data/BMS dataset/INNOVIX_Elbonie.xlsx'"
   ]
  },
  {
   "cell_type": "markdown",
   "metadata": {},
   "source": [
    "### Ex-factory volumes"
   ]
  },
  {
   "cell_type": "code",
   "execution_count": 12,
   "metadata": {},
   "outputs": [],
   "source": [
    "exf_elbonie = pd.read_excel(Elbonie_path, sheet_name='Ex-factory volumes')\n",
    "exf_floresland = pd.read_excel(Floresland_path, sheet_name='Ex-Factory volumes')\n",
    "exf_zegoland = pd.read_excel(Zegoland_path, sheet_name='Ex-factory volumes')"
   ]
  },
  {
   "cell_type": "code",
   "execution_count": 13,
   "metadata": {},
   "outputs": [
    {
     "name": "stdout",
     "output_type": "stream",
     "text": [
      "Elbonie columns: Index(['Country', 'Product', 'Data type', 'Unit of measure', 'Date', 'Value'], dtype='object')\n",
      "Floresland columns: Index(['Country', 'Product', 'Data type', 'Unit of measure', 'Date', 'Value'], dtype='object')\n",
      "Zegoland columns: Index(['Country', 'Product', 'Data type', 'Unit of measure', 'Date', 'Value'], dtype='object')\n"
     ]
    }
   ],
   "source": [
    "print(\"Elbonie columns:\",exf_elbonie.columns)\n",
    "print(\"Floresland columns:\",exf_floresland.columns)\n",
    "print(\"Zegoland columns:\",exf_zegoland.columns)"
   ]
  },
  {
   "cell_type": "code",
   "execution_count": 14,
   "metadata": {},
   "outputs": [
    {
     "name": "stdout",
     "output_type": "stream",
     "text": [
      "<class 'pandas.core.frame.DataFrame'>\n",
      "RangeIndex: 82 entries, 0 to 81\n",
      "Data columns (total 6 columns):\n",
      " #   Column           Non-Null Count  Dtype         \n",
      "---  ------           --------------  -----         \n",
      " 0   Country          82 non-null     object        \n",
      " 1   Product          82 non-null     object        \n",
      " 2   Data type        82 non-null     object        \n",
      " 3   Unit of measure  82 non-null     object        \n",
      " 4   Date             82 non-null     datetime64[ns]\n",
      " 5   Value            82 non-null     int64         \n",
      "dtypes: datetime64[ns](1), int64(1), object(4)\n",
      "memory usage: 4.0+ KB\n",
      "Elbonie info: None\n",
      "<class 'pandas.core.frame.DataFrame'>\n",
      "RangeIndex: 82 entries, 0 to 81\n",
      "Data columns (total 6 columns):\n",
      " #   Column           Non-Null Count  Dtype         \n",
      "---  ------           --------------  -----         \n",
      " 0   Country          82 non-null     object        \n",
      " 1   Product          82 non-null     object        \n",
      " 2   Data type        82 non-null     object        \n",
      " 3   Unit of measure  82 non-null     object        \n",
      " 4   Date             82 non-null     datetime64[ns]\n",
      " 5   Value            82 non-null     int64         \n",
      "dtypes: datetime64[ns](1), int64(1), object(4)\n",
      "memory usage: 4.0+ KB\n",
      "Floresland info: None\n",
      "<class 'pandas.core.frame.DataFrame'>\n",
      "RangeIndex: 82 entries, 0 to 81\n",
      "Data columns (total 6 columns):\n",
      " #   Column           Non-Null Count  Dtype         \n",
      "---  ------           --------------  -----         \n",
      " 0   Country          82 non-null     object        \n",
      " 1   Product          82 non-null     object        \n",
      " 2   Data type        82 non-null     object        \n",
      " 3   Unit of measure  82 non-null     object        \n",
      " 4   Date             82 non-null     datetime64[ns]\n",
      " 5   Value            82 non-null     int64         \n",
      "dtypes: datetime64[ns](1), int64(1), object(4)\n",
      "memory usage: 4.0+ KB\n",
      "Zegoland info: None\n"
     ]
    }
   ],
   "source": [
    "print(\"Elbonie info:\",exf_elbonie.info())\n",
    "print(\"Floresland info:\",exf_floresland.info())\n",
    "print(\"Zegoland info:\",exf_zegoland.info())"
   ]
  },
  {
   "cell_type": "code",
   "execution_count": 15,
   "metadata": {},
   "outputs": [
    {
     "name": "stdout",
     "output_type": "stream",
     "text": [
      "Elbonie head:    Country  Product           Data type Unit of measure       Date    Value\n",
      "0  ELBONIE  INNOVIX  Ex-factory volumes      Milligrams 2018-01-01  2415700\n",
      "1  ELBONIE  INNOVIX  Ex-factory volumes      Milligrams 2018-02-01  2546680\n",
      "2  ELBONIE  INNOVIX  Ex-factory volumes      Milligrams 2018-03-01  2692040\n",
      "3  ELBONIE  INNOVIX  Ex-factory volumes      Milligrams 2018-04-01  3064760\n",
      "4  ELBONIE  INNOVIX  Ex-factory volumes      Milligrams 2018-05-01  2862080\n",
      "Floresland head:       Country  Product           Data type Unit of measure       Date    Value\n",
      "0  Floresland  INNOVIX  Ex-factory volumes      Milligrams 2018-01-01  3503180\n",
      "1  Floresland  INNOVIX  Ex-factory volumes      Milligrams 2018-02-01  2611020\n",
      "2  Floresland  INNOVIX  Ex-factory volumes      Milligrams 2018-03-01  2952120\n",
      "3  Floresland  INNOVIX  Ex-factory volumes      Milligrams 2018-04-01  2995280\n",
      "4  Floresland  INNOVIX  Ex-factory volumes      Milligrams 2018-05-01  2929660\n",
      "Zegoland head:    Country  Product           Data type Unit of measure       Date    Value\n",
      "0  ELBONIE  INNOVIX  Ex-factory volumes      Milligrams 2018-01-01  2415700\n",
      "1  ELBONIE  INNOVIX  Ex-factory volumes      Milligrams 2018-02-01  2546680\n",
      "2  ELBONIE  INNOVIX  Ex-factory volumes      Milligrams 2018-03-01  2692040\n",
      "3  ELBONIE  INNOVIX  Ex-factory volumes      Milligrams 2018-04-01  3064760\n",
      "4  ELBONIE  INNOVIX  Ex-factory volumes      Milligrams 2018-05-01  2862080\n"
     ]
    }
   ],
   "source": [
    "print(\"Elbonie head:\",exf_elbonie.head())\n",
    "print(\"Floresland head:\",exf_floresland.head())\n",
    "print(\"Zegoland head:\",exf_zegoland.head())"
   ]
  },
  {
   "cell_type": "code",
   "execution_count": null,
   "metadata": {},
   "outputs": [],
   "source": []
  }
 ],
 "metadata": {
  "kernelspec": {
   "display_name": "Python 3",
   "language": "python",
   "name": "python3"
  },
  "language_info": {
   "codemirror_mode": {
    "name": "ipython",
    "version": 3
   },
   "file_extension": ".py",
   "mimetype": "text/x-python",
   "name": "python",
   "nbconvert_exporter": "python",
   "pygments_lexer": "ipython3",
   "version": "3.11.3"
  }
 },
 "nbformat": 4,
 "nbformat_minor": 2
}
