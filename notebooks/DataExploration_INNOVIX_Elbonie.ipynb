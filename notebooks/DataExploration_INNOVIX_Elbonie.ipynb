{
 "cells": [
  {
   "cell_type": "markdown",
   "metadata": {},
   "source": [
    "# Data Exploration Notebook"
   ]
  },
  {
   "cell_type": "markdown",
   "metadata": {},
   "source": [
    "### Import necessary libraries"
   ]
  },
  {
   "cell_type": "code",
   "execution_count": 263,
   "metadata": {},
   "outputs": [],
   "source": [
    "import pandas as pd"
   ]
  },
  {
   "cell_type": "code",
   "execution_count": 264,
   "metadata": {},
   "outputs": [],
   "source": [
    "# Load the dataset\n",
    "Elbonie_path = '../data/BMS dataset/INNOVIX_Elbonie.xlsx'\n",
    "Floresland_path = '../data/BMS dataset/INNOVIX_Floresland.xlsx'\n",
    "Zegoland_path = '../data/BMS dataset/INNOVIX_Elbonie.xlsx'"
   ]
  },
  {
   "cell_type": "markdown",
   "metadata": {},
   "source": [
    "### Ex-factory volumes"
   ]
  },
  {
   "cell_type": "code",
   "execution_count": 265,
   "metadata": {},
   "outputs": [],
   "source": [
    "exf_elbonie = pd.read_excel(Elbonie_path, sheet_name='Ex-factory volumes')\n",
    "exf_floresland = pd.read_excel(Floresland_path, sheet_name='Ex-Factory volumes')\n",
    "exf_zegoland = pd.read_excel(Zegoland_path, sheet_name='Ex-factory volumes')"
   ]
  },
  {
   "cell_type": "code",
   "execution_count": 266,
   "metadata": {},
   "outputs": [
    {
     "name": "stdout",
     "output_type": "stream",
     "text": [
      "Elbonie columns: Index(['Country', 'Product', 'Data type', 'Unit of measure', 'Date', 'Value'], dtype='object')\n",
      "Floresland columns: Index(['Country', 'Product', 'Data type', 'Unit of measure', 'Date', 'Value'], dtype='object')\n",
      "Zegoland columns: Index(['Country', 'Product', 'Data type', 'Unit of measure', 'Date', 'Value'], dtype='object')\n"
     ]
    }
   ],
   "source": [
    "print(\"Elbonie columns:\",exf_elbonie.columns)\n",
    "print(\"Floresland columns:\",exf_floresland.columns)\n",
    "print(\"Zegoland columns:\",exf_zegoland.columns)"
   ]
  },
  {
   "cell_type": "code",
   "execution_count": 267,
   "metadata": {},
   "outputs": [
    {
     "name": "stdout",
     "output_type": "stream",
     "text": [
      "<class 'pandas.core.frame.DataFrame'>\n",
      "RangeIndex: 82 entries, 0 to 81\n",
      "Data columns (total 6 columns):\n",
      " #   Column           Non-Null Count  Dtype         \n",
      "---  ------           --------------  -----         \n",
      " 0   Country          82 non-null     object        \n",
      " 1   Product          82 non-null     object        \n",
      " 2   Data type        82 non-null     object        \n",
      " 3   Unit of measure  82 non-null     object        \n",
      " 4   Date             82 non-null     datetime64[ns]\n",
      " 5   Value            82 non-null     int64         \n",
      "dtypes: datetime64[ns](1), int64(1), object(4)\n",
      "memory usage: 4.0+ KB\n",
      "Elbonie info: None\n",
      "<class 'pandas.core.frame.DataFrame'>\n",
      "RangeIndex: 82 entries, 0 to 81\n",
      "Data columns (total 6 columns):\n",
      " #   Column           Non-Null Count  Dtype         \n",
      "---  ------           --------------  -----         \n",
      " 0   Country          82 non-null     object        \n",
      " 1   Product          82 non-null     object        \n",
      " 2   Data type        82 non-null     object        \n",
      " 3   Unit of measure  82 non-null     object        \n",
      " 4   Date             82 non-null     datetime64[ns]\n",
      " 5   Value            82 non-null     int64         \n",
      "dtypes: datetime64[ns](1), int64(1), object(4)\n",
      "memory usage: 4.0+ KB\n",
      "Floresland info: None\n",
      "<class 'pandas.core.frame.DataFrame'>\n",
      "RangeIndex: 82 entries, 0 to 81\n",
      "Data columns (total 6 columns):\n",
      " #   Column           Non-Null Count  Dtype         \n",
      "---  ------           --------------  -----         \n",
      " 0   Country          82 non-null     object        \n",
      " 1   Product          82 non-null     object        \n",
      " 2   Data type        82 non-null     object        \n",
      " 3   Unit of measure  82 non-null     object        \n",
      " 4   Date             82 non-null     datetime64[ns]\n",
      " 5   Value            82 non-null     int64         \n",
      "dtypes: datetime64[ns](1), int64(1), object(4)\n",
      "memory usage: 4.0+ KB\n",
      "Zegoland info: None\n"
     ]
    }
   ],
   "source": [
    "print(\"Elbonie info:\",exf_elbonie.info())\n",
    "print(\"Floresland info:\",exf_floresland.info())\n",
    "print(\"Zegoland info:\",exf_zegoland.info())"
   ]
  },
  {
   "cell_type": "code",
   "execution_count": 268,
   "metadata": {},
   "outputs": [
    {
     "name": "stdout",
     "output_type": "stream",
     "text": [
      "Elbonie head:    Country  Product           Data type Unit of measure       Date    Value\n",
      "0  ELBONIE  INNOVIX  Ex-factory volumes      Milligrams 2018-01-01  2415700\n",
      "1  ELBONIE  INNOVIX  Ex-factory volumes      Milligrams 2018-02-01  2546680\n",
      "2  ELBONIE  INNOVIX  Ex-factory volumes      Milligrams 2018-03-01  2692040\n",
      "3  ELBONIE  INNOVIX  Ex-factory volumes      Milligrams 2018-04-01  3064760\n",
      "4  ELBONIE  INNOVIX  Ex-factory volumes      Milligrams 2018-05-01  2862080\n",
      "Floresland head:       Country  Product           Data type Unit of measure       Date    Value\n",
      "0  Floresland  INNOVIX  Ex-factory volumes      Milligrams 2018-01-01  3503180\n",
      "1  Floresland  INNOVIX  Ex-factory volumes      Milligrams 2018-02-01  2611020\n",
      "2  Floresland  INNOVIX  Ex-factory volumes      Milligrams 2018-03-01  2952120\n",
      "3  Floresland  INNOVIX  Ex-factory volumes      Milligrams 2018-04-01  2995280\n",
      "4  Floresland  INNOVIX  Ex-factory volumes      Milligrams 2018-05-01  2929660\n",
      "Zegoland head:    Country  Product           Data type Unit of measure       Date    Value\n",
      "0  ELBONIE  INNOVIX  Ex-factory volumes      Milligrams 2018-01-01  2415700\n",
      "1  ELBONIE  INNOVIX  Ex-factory volumes      Milligrams 2018-02-01  2546680\n",
      "2  ELBONIE  INNOVIX  Ex-factory volumes      Milligrams 2018-03-01  2692040\n",
      "3  ELBONIE  INNOVIX  Ex-factory volumes      Milligrams 2018-04-01  3064760\n",
      "4  ELBONIE  INNOVIX  Ex-factory volumes      Milligrams 2018-05-01  2862080\n"
     ]
    }
   ],
   "source": [
    "print(\"Elbonie head:\",exf_elbonie.head())\n",
    "print(\"Floresland head:\",exf_floresland.head())\n",
    "print(\"Zegoland head:\",exf_zegoland.head())"
   ]
  },
  {
   "cell_type": "markdown",
   "metadata": {},
   "source": [
    "# INNOVIX FLoresland "
   ]
  },
  {
   "cell_type": "markdown",
   "metadata": {},
   "source": [
    "## Ex-Factory Volumes"
   ]
  },
  {
   "cell_type": "code",
   "execution_count": 269,
   "metadata": {},
   "outputs": [
    {
     "name": "stdout",
     "output_type": "stream",
     "text": [
      "      Country  Product           Data type Unit of measure       Date    Value\n",
      "0  Floresland  INNOVIX  Ex-factory volumes      Milligrams 2018-01-01  3503180\n",
      "1  Floresland  INNOVIX  Ex-factory volumes      Milligrams 2018-02-01  2611020\n",
      "2  Floresland  INNOVIX  Ex-factory volumes      Milligrams 2018-03-01  2952120\n",
      "3  Floresland  INNOVIX  Ex-factory volumes      Milligrams 2018-04-01  2995280\n",
      "4  Floresland  INNOVIX  Ex-factory volumes      Milligrams 2018-05-01  2929660\n"
     ]
    }
   ],
   "source": [
    "df_exfactor = exf_floresland\n",
    "\n",
    "print(df_exfactor.head())"
   ]
  },
  {
   "cell_type": "code",
   "execution_count": 270,
   "metadata": {},
   "outputs": [
    {
     "name": "stdout",
     "output_type": "stream",
     "text": [
      "<class 'pandas.core.frame.DataFrame'>\n",
      "RangeIndex: 82 entries, 0 to 81\n",
      "Data columns (total 6 columns):\n",
      " #   Column           Non-Null Count  Dtype         \n",
      "---  ------           --------------  -----         \n",
      " 0   Country          82 non-null     object        \n",
      " 1   Product          82 non-null     object        \n",
      " 2   Data type        82 non-null     object        \n",
      " 3   Unit of measure  82 non-null     object        \n",
      " 4   Date             82 non-null     datetime64[ns]\n",
      " 5   Value            82 non-null     int64         \n",
      "dtypes: datetime64[ns](1), int64(1), object(4)\n",
      "memory usage: 4.0+ KB\n"
     ]
    }
   ],
   "source": [
    "df_exfactor.info()"
   ]
  },
  {
   "cell_type": "code",
   "execution_count": 271,
   "metadata": {},
   "outputs": [
    {
     "data": {
      "text/plain": [
       "Country            0\n",
       "Product            0\n",
       "Data type          0\n",
       "Unit of measure    0\n",
       "Date               0\n",
       "Value              0\n",
       "dtype: int64"
      ]
     },
     "execution_count": 271,
     "metadata": {},
     "output_type": "execute_result"
    }
   ],
   "source": [
    "df_exfactor.isna().sum()"
   ]
  },
  {
   "cell_type": "markdown",
   "metadata": {},
   "source": [
    "## Demand Volumes"
   ]
  },
  {
   "cell_type": "code",
   "execution_count": 272,
   "metadata": {},
   "outputs": [
    {
     "data": {
      "text/plain": [
       "Index(['Country', 'Product', 'Data type', 'Unit of measure', 'Date', 'Value'], dtype='object')"
      ]
     },
     "execution_count": 272,
     "metadata": {},
     "output_type": "execute_result"
    }
   ],
   "source": [
    "df_demand= pd.read_excel(Floresland_path, sheet_name='Demand volumes')\n",
    "df_demand.columns"
   ]
  },
  {
   "cell_type": "code",
   "execution_count": 273,
   "metadata": {},
   "outputs": [
    {
     "name": "stdout",
     "output_type": "stream",
     "text": [
      "<class 'pandas.core.frame.DataFrame'>\n",
      "RangeIndex: 146 entries, 0 to 145\n",
      "Data columns (total 6 columns):\n",
      " #   Column           Non-Null Count  Dtype         \n",
      "---  ------           --------------  -----         \n",
      " 0   Country          146 non-null    object        \n",
      " 1   Product          146 non-null    object        \n",
      " 2   Data type        146 non-null    object        \n",
      " 3   Unit of measure  146 non-null    object        \n",
      " 4   Date             146 non-null    datetime64[ns]\n",
      " 5   Value            146 non-null    float64       \n",
      "dtypes: datetime64[ns](1), float64(1), object(4)\n",
      "memory usage: 7.0+ KB\n"
     ]
    }
   ],
   "source": [
    "df_demand.info()"
   ]
  },
  {
   "cell_type": "code",
   "execution_count": 274,
   "metadata": {},
   "outputs": [
    {
     "data": {
      "text/plain": [
       "Country            0\n",
       "Product            0\n",
       "Data type          0\n",
       "Unit of measure    0\n",
       "Date               0\n",
       "Value              0\n",
       "dtype: int64"
      ]
     },
     "execution_count": 274,
     "metadata": {},
     "output_type": "execute_result"
    }
   ],
   "source": [
    "df_demand.isna().sum()"
   ]
  },
  {
   "cell_type": "code",
   "execution_count": 275,
   "metadata": {},
   "outputs": [
    {
     "data": {
      "text/html": [
       "<div>\n",
       "<style scoped>\n",
       "    .dataframe tbody tr th:only-of-type {\n",
       "        vertical-align: middle;\n",
       "    }\n",
       "\n",
       "    .dataframe tbody tr th {\n",
       "        vertical-align: top;\n",
       "    }\n",
       "\n",
       "    .dataframe thead th {\n",
       "        text-align: right;\n",
       "    }\n",
       "</style>\n",
       "<table border=\"1\" class=\"dataframe\">\n",
       "  <thead>\n",
       "    <tr style=\"text-align: right;\">\n",
       "      <th></th>\n",
       "      <th>Country</th>\n",
       "      <th>Product</th>\n",
       "      <th>Data type</th>\n",
       "      <th>Unit of measure</th>\n",
       "      <th>Date</th>\n",
       "      <th>Value</th>\n",
       "    </tr>\n",
       "  </thead>\n",
       "  <tbody>\n",
       "    <tr>\n",
       "      <th>0</th>\n",
       "      <td>Floresland</td>\n",
       "      <td>INNOVIX</td>\n",
       "      <td>Demand volumes</td>\n",
       "      <td>Milligrams</td>\n",
       "      <td>2022-07-01</td>\n",
       "      <td>3.488909e+06</td>\n",
       "    </tr>\n",
       "    <tr>\n",
       "      <th>1</th>\n",
       "      <td>Floresland</td>\n",
       "      <td>INNOVIX</td>\n",
       "      <td>Demand volumes</td>\n",
       "      <td>Milligrams</td>\n",
       "      <td>2022-08-01</td>\n",
       "      <td>4.227398e+06</td>\n",
       "    </tr>\n",
       "    <tr>\n",
       "      <th>2</th>\n",
       "      <td>Floresland</td>\n",
       "      <td>INNOVIX</td>\n",
       "      <td>Demand volumes</td>\n",
       "      <td>Milligrams</td>\n",
       "      <td>2022-09-01</td>\n",
       "      <td>3.282558e+06</td>\n",
       "    </tr>\n",
       "    <tr>\n",
       "      <th>3</th>\n",
       "      <td>Floresland</td>\n",
       "      <td>INNOVIX</td>\n",
       "      <td>Demand volumes</td>\n",
       "      <td>Milligrams</td>\n",
       "      <td>2022-10-01</td>\n",
       "      <td>3.826548e+06</td>\n",
       "    </tr>\n",
       "    <tr>\n",
       "      <th>4</th>\n",
       "      <td>Floresland</td>\n",
       "      <td>INNOVIX</td>\n",
       "      <td>Demand volumes</td>\n",
       "      <td>Milligrams</td>\n",
       "      <td>2022-11-01</td>\n",
       "      <td>3.381186e+06</td>\n",
       "    </tr>\n",
       "  </tbody>\n",
       "</table>\n",
       "</div>"
      ],
      "text/plain": [
       "      Country  Product       Data type Unit of measure       Date   \n",
       "0  Floresland  INNOVIX  Demand volumes      Milligrams 2022-07-01  \\\n",
       "1  Floresland  INNOVIX  Demand volumes      Milligrams 2022-08-01   \n",
       "2  Floresland  INNOVIX  Demand volumes      Milligrams 2022-09-01   \n",
       "3  Floresland  INNOVIX  Demand volumes      Milligrams 2022-10-01   \n",
       "4  Floresland  INNOVIX  Demand volumes      Milligrams 2022-11-01   \n",
       "\n",
       "          Value  \n",
       "0  3.488909e+06  \n",
       "1  4.227398e+06  \n",
       "2  3.282558e+06  \n",
       "3  3.826548e+06  \n",
       "4  3.381186e+06  "
      ]
     },
     "execution_count": 275,
     "metadata": {},
     "output_type": "execute_result"
    }
   ],
   "source": [
    "df_demand.head(5)"
   ]
  },
  {
   "cell_type": "code",
   "execution_count": 276,
   "metadata": {},
   "outputs": [
    {
     "data": {
      "text/html": [
       "<div>\n",
       "<style scoped>\n",
       "    .dataframe tbody tr th:only-of-type {\n",
       "        vertical-align: middle;\n",
       "    }\n",
       "\n",
       "    .dataframe tbody tr th {\n",
       "        vertical-align: top;\n",
       "    }\n",
       "\n",
       "    .dataframe thead th {\n",
       "        text-align: right;\n",
       "    }\n",
       "</style>\n",
       "<table border=\"1\" class=\"dataframe\">\n",
       "  <thead>\n",
       "    <tr style=\"text-align: right;\">\n",
       "      <th></th>\n",
       "      <th>Country</th>\n",
       "      <th>Product</th>\n",
       "      <th>Data type</th>\n",
       "      <th>Unit of measure</th>\n",
       "      <th>Date</th>\n",
       "      <th>Value</th>\n",
       "    </tr>\n",
       "  </thead>\n",
       "  <tbody>\n",
       "    <tr>\n",
       "      <th>0</th>\n",
       "      <td>Floresland</td>\n",
       "      <td>INNOVIX</td>\n",
       "      <td>Demand volumes</td>\n",
       "      <td>Milligrams</td>\n",
       "      <td>2022-07-01</td>\n",
       "      <td>3.488909e+06</td>\n",
       "    </tr>\n",
       "    <tr>\n",
       "      <th>1</th>\n",
       "      <td>Floresland</td>\n",
       "      <td>INNOVIX</td>\n",
       "      <td>Demand volumes</td>\n",
       "      <td>Milligrams</td>\n",
       "      <td>2022-08-01</td>\n",
       "      <td>4.227398e+06</td>\n",
       "    </tr>\n",
       "    <tr>\n",
       "      <th>2</th>\n",
       "      <td>Floresland</td>\n",
       "      <td>INNOVIX</td>\n",
       "      <td>Demand volumes</td>\n",
       "      <td>Milligrams</td>\n",
       "      <td>2022-09-01</td>\n",
       "      <td>3.282558e+06</td>\n",
       "    </tr>\n",
       "    <tr>\n",
       "      <th>3</th>\n",
       "      <td>Floresland</td>\n",
       "      <td>INNOVIX</td>\n",
       "      <td>Demand volumes</td>\n",
       "      <td>Milligrams</td>\n",
       "      <td>2022-10-01</td>\n",
       "      <td>3.826548e+06</td>\n",
       "    </tr>\n",
       "    <tr>\n",
       "      <th>4</th>\n",
       "      <td>Floresland</td>\n",
       "      <td>INNOVIX</td>\n",
       "      <td>Demand volumes</td>\n",
       "      <td>Milligrams</td>\n",
       "      <td>2022-11-01</td>\n",
       "      <td>3.381186e+06</td>\n",
       "    </tr>\n",
       "  </tbody>\n",
       "</table>\n",
       "</div>"
      ],
      "text/plain": [
       "      Country  Product       Data type Unit of measure       Date   \n",
       "0  Floresland  INNOVIX  Demand volumes      Milligrams 2022-07-01  \\\n",
       "1  Floresland  INNOVIX  Demand volumes      Milligrams 2022-08-01   \n",
       "2  Floresland  INNOVIX  Demand volumes      Milligrams 2022-09-01   \n",
       "3  Floresland  INNOVIX  Demand volumes      Milligrams 2022-10-01   \n",
       "4  Floresland  INNOVIX  Demand volumes      Milligrams 2022-11-01   \n",
       "\n",
       "          Value  \n",
       "0  3.488909e+06  \n",
       "1  4.227398e+06  \n",
       "2  3.282558e+06  \n",
       "3  3.826548e+06  \n",
       "4  3.381186e+06  "
      ]
     },
     "execution_count": 276,
     "metadata": {},
     "output_type": "execute_result"
    }
   ],
   "source": [
    "df_demand_by_measure = df_demand[df_demand['Unit of measure'] == 'Milligrams']\n",
    "df_demand_by_measure.head(5)"
   ]
  },
  {
   "cell_type": "code",
   "execution_count": 277,
   "metadata": {},
   "outputs": [
    {
     "data": {
      "text/html": [
       "<div>\n",
       "<style scoped>\n",
       "    .dataframe tbody tr th:only-of-type {\n",
       "        vertical-align: middle;\n",
       "    }\n",
       "\n",
       "    .dataframe tbody tr th {\n",
       "        vertical-align: top;\n",
       "    }\n",
       "\n",
       "    .dataframe thead th {\n",
       "        text-align: right;\n",
       "    }\n",
       "</style>\n",
       "<table border=\"1\" class=\"dataframe\">\n",
       "  <thead>\n",
       "    <tr style=\"text-align: right;\">\n",
       "      <th></th>\n",
       "      <th>Country</th>\n",
       "      <th>Product</th>\n",
       "      <th>Data type</th>\n",
       "      <th>Unit of measure</th>\n",
       "      <th>Date</th>\n",
       "      <th>Value</th>\n",
       "    </tr>\n",
       "  </thead>\n",
       "  <tbody>\n",
       "    <tr>\n",
       "      <th>25</th>\n",
       "      <td>Floresland</td>\n",
       "      <td>INNOVIX</td>\n",
       "      <td>Demand volumes</td>\n",
       "      <td>Month of treatment</td>\n",
       "      <td>2020-08-01</td>\n",
       "      <td>7135.4428</td>\n",
       "    </tr>\n",
       "    <tr>\n",
       "      <th>26</th>\n",
       "      <td>Floresland</td>\n",
       "      <td>INNOVIX</td>\n",
       "      <td>Demand volumes</td>\n",
       "      <td>Month of treatment</td>\n",
       "      <td>2020-09-01</td>\n",
       "      <td>7825.0070</td>\n",
       "    </tr>\n",
       "    <tr>\n",
       "      <th>27</th>\n",
       "      <td>Floresland</td>\n",
       "      <td>INNOVIX</td>\n",
       "      <td>Demand volumes</td>\n",
       "      <td>Month of treatment</td>\n",
       "      <td>2020-10-01</td>\n",
       "      <td>8191.0239</td>\n",
       "    </tr>\n",
       "    <tr>\n",
       "      <th>28</th>\n",
       "      <td>Floresland</td>\n",
       "      <td>INNOVIX</td>\n",
       "      <td>Demand volumes</td>\n",
       "      <td>Month of treatment</td>\n",
       "      <td>2020-11-01</td>\n",
       "      <td>7232.5730</td>\n",
       "    </tr>\n",
       "    <tr>\n",
       "      <th>29</th>\n",
       "      <td>Floresland</td>\n",
       "      <td>INNOVIX</td>\n",
       "      <td>Demand volumes</td>\n",
       "      <td>Month of treatment</td>\n",
       "      <td>2020-12-01</td>\n",
       "      <td>7152.7927</td>\n",
       "    </tr>\n",
       "  </tbody>\n",
       "</table>\n",
       "</div>"
      ],
      "text/plain": [
       "       Country  Product       Data type     Unit of measure       Date   \n",
       "25  Floresland  INNOVIX  Demand volumes  Month of treatment 2020-08-01  \\\n",
       "26  Floresland  INNOVIX  Demand volumes  Month of treatment 2020-09-01   \n",
       "27  Floresland  INNOVIX  Demand volumes  Month of treatment 2020-10-01   \n",
       "28  Floresland  INNOVIX  Demand volumes  Month of treatment 2020-11-01   \n",
       "29  Floresland  INNOVIX  Demand volumes  Month of treatment 2020-12-01   \n",
       "\n",
       "        Value  \n",
       "25  7135.4428  \n",
       "26  7825.0070  \n",
       "27  8191.0239  \n",
       "28  7232.5730  \n",
       "29  7152.7927  "
      ]
     },
     "execution_count": 277,
     "metadata": {},
     "output_type": "execute_result"
    }
   ],
   "source": [
    "df_demand_by_month_treatment = df_demand[df_demand['Unit of measure'] == 'Month of treatment']\n",
    "df_demand_by_month_treatment.head(5)"
   ]
  },
  {
   "cell_type": "code",
   "execution_count": 278,
   "metadata": {},
   "outputs": [],
   "source": [
    "# df_dmeasure_Innovix = df_demand_by_measure[df_demand_by_measure['Product'] == 'INNOVIX']\n",
    "# df_dmeasure_Yrex = df_demand_by_measure[df_demand_by_measure['Product'] == 'Yrex']\n",
    "df_dmonth_treatment_Innovix = df_demand_by_month_treatment[df_demand_by_month_treatment['Product'] == 'INNOVIX']\n",
    "df_dmonth_treatment_Yrex = df_demand_by_month_treatment[df_demand_by_month_treatment['Product'] == 'YREX']"
   ]
  },
  {
   "cell_type": "code",
   "execution_count": 279,
   "metadata": {},
   "outputs": [
    {
     "name": "stderr",
     "output_type": "stream",
     "text": [
      "C:\\Users\\Usuari\\AppData\\Local\\Temp\\ipykernel_10088\\3990987075.py:1: SettingWithCopyWarning: \n",
      "A value is trying to be set on a copy of a slice from a DataFrame\n",
      "\n",
      "See the caveats in the documentation: https://pandas.pydata.org/pandas-docs/stable/user_guide/indexing.html#returning-a-view-versus-a-copy\n",
      "  df_dmonth_treatment_Innovix.drop(columns=['Data type', 'Unit of measure'], inplace=True)\n",
      "C:\\Users\\Usuari\\AppData\\Local\\Temp\\ipykernel_10088\\3990987075.py:5: SettingWithCopyWarning: \n",
      "A value is trying to be set on a copy of a slice from a DataFrame\n",
      "\n",
      "See the caveats in the documentation: https://pandas.pydata.org/pandas-docs/stable/user_guide/indexing.html#returning-a-view-versus-a-copy\n",
      "  df_dmonth_treatment_Yrex .drop(columns=columns_to_drop, inplace=True)\n"
     ]
    }
   ],
   "source": [
    "df_dmonth_treatment_Innovix.drop(columns=['Data type', 'Unit of measure'], inplace=True)\n",
    "columns_to_drop = ['Country', 'Product', 'Data type', 'Unit of measure']\n",
    "# df_dmeasure_Innovix.drop(columns=columns_to_drop, inplace=True)\n",
    "# df_dmeasure_Yrex.drop(columns=columns_to_drop, inplace=True)\n",
    "df_dmonth_treatment_Yrex .drop(columns=columns_to_drop, inplace=True)"
   ]
  },
  {
   "cell_type": "code",
   "execution_count": 280,
   "metadata": {},
   "outputs": [
    {
     "name": "stdout",
     "output_type": "stream",
     "text": [
      "df_dmonth_treatment_Innovix Index(['Country', 'Product', 'Date', 'Value'], dtype='object')\n",
      "df_dmonth_treatment_Yrex Index(['Date', 'Value'], dtype='object')\n"
     ]
    }
   ],
   "source": [
    "# print(\"df_dmeasure_Innovix:\",df_dmeasure_Innovix.columns)\n",
    "# print(\"df_dmeasure_Yrex\",df_dmeasure_Yrex.columns)\n",
    "print(\"df_dmonth_treatment_Innovix\",df_dmonth_treatment_Innovix.columns)\n",
    "print(\"df_dmonth_treatment_Yrex\",df_dmonth_treatment_Yrex.columns)"
   ]
  },
  {
   "cell_type": "code",
   "execution_count": 281,
   "metadata": {},
   "outputs": [],
   "source": [
    "# df_dmeasure_Innovix = df_dmeasure_Innovix.rename(columns={\n",
    "#     'Value': 'Innovix_measure_value'\n",
    "# })\n",
    "\n",
    "# df_dmeasure_Yrex = df_dmeasure_Yrex.rename(columns={\n",
    "#     'Value': 'Yrex_measure_value'\n",
    "# })\n",
    "\n",
    "df_dmonth_treatment_Innovix = df_dmonth_treatment_Innovix.rename(columns={\n",
    "    'Value': 'MonthlyTreatment'\n",
    "})\n",
    "\n",
    "df_dmonth_treatment_Yrex = df_dmonth_treatment_Yrex.rename(columns={\n",
    "    'Value': 'YrexMonthlyTreatment'\n",
    "})"
   ]
  },
  {
   "cell_type": "code",
   "execution_count": 282,
   "metadata": {},
   "outputs": [
    {
     "name": "stdout",
     "output_type": "stream",
     "text": [
      "df_dmonth_treatment_Innovix Index(['Country', 'Product', 'Date', 'MonthlyTreatment'], dtype='object')\n",
      "df_dmonth_treatment_Yrex Index(['Date', 'YrexMonthlyTreatment'], dtype='object')\n"
     ]
    }
   ],
   "source": [
    "# print(\"df_dmeasure_Innovix:\",df_dmeasure_Innovix.columns)\n",
    "# print(\"df_dmeasure_Yrex\",df_dmeasure_Yrex.columns)\n",
    "print(\"df_dmonth_treatment_Innovix\",df_dmonth_treatment_Innovix.columns)\n",
    "print(\"df_dmonth_treatment_Yrex\",df_dmonth_treatment_Yrex.columns)"
   ]
  },
  {
   "cell_type": "code",
   "execution_count": 283,
   "metadata": {},
   "outputs": [
    {
     "name": "stdout",
     "output_type": "stream",
     "text": [
      "       Country  Product       Date  MonthlyTreatment\n",
      "25  Floresland  INNOVIX 2020-08-01         7135.4428\n",
      "26  Floresland  INNOVIX 2020-09-01         7825.0070\n",
      "27  Floresland  INNOVIX 2020-10-01         8191.0239\n",
      "28  Floresland  INNOVIX 2020-11-01         7232.5730\n",
      "29  Floresland  INNOVIX 2020-12-01         7152.7927\n",
      "          Date  YrexMonthlyTreatment\n",
      "98  2020-08-01             8755.6500\n",
      "99  2020-09-01             9645.6619\n",
      "100 2020-10-01            11365.3433\n",
      "101 2020-11-01            10154.6358\n",
      "102 2020-12-01            10652.5738\n"
     ]
    }
   ],
   "source": [
    "print(df_dmonth_treatment_Innovix.head(5))\n",
    "print(df_dmonth_treatment_Yrex.head(5))"
   ]
  },
  {
   "cell_type": "code",
   "execution_count": 284,
   "metadata": {},
   "outputs": [],
   "source": [
    "df_final_demand = df_dmonth_treatment_Innovix.merge(right=df_dmonth_treatment_Yrex, on='Date')"
   ]
  },
  {
   "cell_type": "code",
   "execution_count": 285,
   "metadata": {},
   "outputs": [
    {
     "data": {
      "text/html": [
       "<div>\n",
       "<style scoped>\n",
       "    .dataframe tbody tr th:only-of-type {\n",
       "        vertical-align: middle;\n",
       "    }\n",
       "\n",
       "    .dataframe tbody tr th {\n",
       "        vertical-align: top;\n",
       "    }\n",
       "\n",
       "    .dataframe thead th {\n",
       "        text-align: right;\n",
       "    }\n",
       "</style>\n",
       "<table border=\"1\" class=\"dataframe\">\n",
       "  <thead>\n",
       "    <tr style=\"text-align: right;\">\n",
       "      <th></th>\n",
       "      <th>Country</th>\n",
       "      <th>Product</th>\n",
       "      <th>Date</th>\n",
       "      <th>MonthlyTreatment</th>\n",
       "      <th>YrexMonthlyTreatment</th>\n",
       "    </tr>\n",
       "  </thead>\n",
       "  <tbody>\n",
       "    <tr>\n",
       "      <th>0</th>\n",
       "      <td>Floresland</td>\n",
       "      <td>INNOVIX</td>\n",
       "      <td>2020-08-01</td>\n",
       "      <td>7135.4428</td>\n",
       "      <td>8755.6500</td>\n",
       "    </tr>\n",
       "    <tr>\n",
       "      <th>1</th>\n",
       "      <td>Floresland</td>\n",
       "      <td>INNOVIX</td>\n",
       "      <td>2020-09-01</td>\n",
       "      <td>7825.0070</td>\n",
       "      <td>9645.6619</td>\n",
       "    </tr>\n",
       "    <tr>\n",
       "      <th>2</th>\n",
       "      <td>Floresland</td>\n",
       "      <td>INNOVIX</td>\n",
       "      <td>2020-10-01</td>\n",
       "      <td>8191.0239</td>\n",
       "      <td>11365.3433</td>\n",
       "    </tr>\n",
       "    <tr>\n",
       "      <th>3</th>\n",
       "      <td>Floresland</td>\n",
       "      <td>INNOVIX</td>\n",
       "      <td>2020-11-01</td>\n",
       "      <td>7232.5730</td>\n",
       "      <td>10154.6358</td>\n",
       "    </tr>\n",
       "    <tr>\n",
       "      <th>4</th>\n",
       "      <td>Floresland</td>\n",
       "      <td>INNOVIX</td>\n",
       "      <td>2020-12-01</td>\n",
       "      <td>7152.7927</td>\n",
       "      <td>10652.5738</td>\n",
       "    </tr>\n",
       "    <tr>\n",
       "      <th>5</th>\n",
       "      <td>Floresland</td>\n",
       "      <td>INNOVIX</td>\n",
       "      <td>2021-01-01</td>\n",
       "      <td>8835.9182</td>\n",
       "      <td>12404.6696</td>\n",
       "    </tr>\n",
       "    <tr>\n",
       "      <th>6</th>\n",
       "      <td>Floresland</td>\n",
       "      <td>INNOVIX</td>\n",
       "      <td>2021-02-01</td>\n",
       "      <td>6574.1432</td>\n",
       "      <td>10952.5781</td>\n",
       "    </tr>\n",
       "    <tr>\n",
       "      <th>7</th>\n",
       "      <td>Floresland</td>\n",
       "      <td>INNOVIX</td>\n",
       "      <td>2021-03-01</td>\n",
       "      <td>8410.0409</td>\n",
       "      <td>12962.2640</td>\n",
       "    </tr>\n",
       "    <tr>\n",
       "      <th>8</th>\n",
       "      <td>Floresland</td>\n",
       "      <td>INNOVIX</td>\n",
       "      <td>2021-04-01</td>\n",
       "      <td>7323.1211</td>\n",
       "      <td>13179.1638</td>\n",
       "    </tr>\n",
       "    <tr>\n",
       "      <th>9</th>\n",
       "      <td>Floresland</td>\n",
       "      <td>INNOVIX</td>\n",
       "      <td>2021-05-01</td>\n",
       "      <td>7395.9758</td>\n",
       "      <td>12206.0452</td>\n",
       "    </tr>\n",
       "  </tbody>\n",
       "</table>\n",
       "</div>"
      ],
      "text/plain": [
       "      Country  Product       Date  MonthlyTreatment  YrexMonthlyTreatment\n",
       "0  Floresland  INNOVIX 2020-08-01         7135.4428             8755.6500\n",
       "1  Floresland  INNOVIX 2020-09-01         7825.0070             9645.6619\n",
       "2  Floresland  INNOVIX 2020-10-01         8191.0239            11365.3433\n",
       "3  Floresland  INNOVIX 2020-11-01         7232.5730            10154.6358\n",
       "4  Floresland  INNOVIX 2020-12-01         7152.7927            10652.5738\n",
       "5  Floresland  INNOVIX 2021-01-01         8835.9182            12404.6696\n",
       "6  Floresland  INNOVIX 2021-02-01         6574.1432            10952.5781\n",
       "7  Floresland  INNOVIX 2021-03-01         8410.0409            12962.2640\n",
       "8  Floresland  INNOVIX 2021-04-01         7323.1211            13179.1638\n",
       "9  Floresland  INNOVIX 2021-05-01         7395.9758            12206.0452"
      ]
     },
     "execution_count": 285,
     "metadata": {},
     "output_type": "execute_result"
    }
   ],
   "source": [
    "df_final_demand.head(10)"
   ]
  },
  {
   "cell_type": "code",
   "execution_count": 286,
   "metadata": {},
   "outputs": [
    {
     "name": "stdout",
     "output_type": "stream",
     "text": [
      "      Country  Product           Data type Unit of measure       Date    Value\n",
      "0  Floresland  INNOVIX  Ex-factory volumes      Milligrams 2018-01-01  3503180\n",
      "1  Floresland  INNOVIX  Ex-factory volumes      Milligrams 2018-02-01  2611020\n",
      "2  Floresland  INNOVIX  Ex-factory volumes      Milligrams 2018-03-01  2952120\n",
      "3  Floresland  INNOVIX  Ex-factory volumes      Milligrams 2018-04-01  2995280\n",
      "4  Floresland  INNOVIX  Ex-factory volumes      Milligrams 2018-05-01  2929660\n"
     ]
    }
   ],
   "source": [
    "print(df_exfactor.head())"
   ]
  },
  {
   "cell_type": "code",
   "execution_count": 287,
   "metadata": {},
   "outputs": [],
   "source": [
    "columns_to_drop = ['Country', 'Product', 'Data type', 'Unit of measure']\n",
    "# df_dmeasure_Innovix.drop(columns=columns_to_drop, inplace=True)\n",
    "# df_dmeasure_Yrex.drop(columns=columns_to_drop, inplace=True)\n",
    "df_exfactor .drop(columns=columns_to_drop, inplace=True)"
   ]
  },
  {
   "cell_type": "code",
   "execution_count": 288,
   "metadata": {},
   "outputs": [],
   "source": [
    "df_demand_exfactor= df_final_demand.merge(right=df_exfactor, on='Date', how='left')"
   ]
  },
  {
   "cell_type": "code",
   "execution_count": 289,
   "metadata": {},
   "outputs": [
    {
     "data": {
      "text/html": [
       "<div>\n",
       "<style scoped>\n",
       "    .dataframe tbody tr th:only-of-type {\n",
       "        vertical-align: middle;\n",
       "    }\n",
       "\n",
       "    .dataframe tbody tr th {\n",
       "        vertical-align: top;\n",
       "    }\n",
       "\n",
       "    .dataframe thead th {\n",
       "        text-align: right;\n",
       "    }\n",
       "</style>\n",
       "<table border=\"1\" class=\"dataframe\">\n",
       "  <thead>\n",
       "    <tr style=\"text-align: right;\">\n",
       "      <th></th>\n",
       "      <th>Country</th>\n",
       "      <th>Product</th>\n",
       "      <th>Date</th>\n",
       "      <th>MonthlyTreatment</th>\n",
       "      <th>YrexMonthlyTreatment</th>\n",
       "      <th>Value</th>\n",
       "    </tr>\n",
       "  </thead>\n",
       "  <tbody>\n",
       "    <tr>\n",
       "      <th>0</th>\n",
       "      <td>Floresland</td>\n",
       "      <td>INNOVIX</td>\n",
       "      <td>2020-08-01</td>\n",
       "      <td>7135.4428</td>\n",
       "      <td>8755.6500</td>\n",
       "      <td>3657300</td>\n",
       "    </tr>\n",
       "    <tr>\n",
       "      <th>1</th>\n",
       "      <td>Floresland</td>\n",
       "      <td>INNOVIX</td>\n",
       "      <td>2020-09-01</td>\n",
       "      <td>7825.0070</td>\n",
       "      <td>9645.6619</td>\n",
       "      <td>3970760</td>\n",
       "    </tr>\n",
       "    <tr>\n",
       "      <th>2</th>\n",
       "      <td>Floresland</td>\n",
       "      <td>INNOVIX</td>\n",
       "      <td>2020-10-01</td>\n",
       "      <td>8191.0239</td>\n",
       "      <td>11365.3433</td>\n",
       "      <td>4102640</td>\n",
       "    </tr>\n",
       "    <tr>\n",
       "      <th>3</th>\n",
       "      <td>Floresland</td>\n",
       "      <td>INNOVIX</td>\n",
       "      <td>2020-11-01</td>\n",
       "      <td>7232.5730</td>\n",
       "      <td>10154.6358</td>\n",
       "      <td>3661520</td>\n",
       "    </tr>\n",
       "    <tr>\n",
       "      <th>4</th>\n",
       "      <td>Floresland</td>\n",
       "      <td>INNOVIX</td>\n",
       "      <td>2020-12-01</td>\n",
       "      <td>7152.7927</td>\n",
       "      <td>10652.5738</td>\n",
       "      <td>3601940</td>\n",
       "    </tr>\n",
       "    <tr>\n",
       "      <th>5</th>\n",
       "      <td>Floresland</td>\n",
       "      <td>INNOVIX</td>\n",
       "      <td>2021-01-01</td>\n",
       "      <td>8835.9182</td>\n",
       "      <td>12404.6696</td>\n",
       "      <td>4452420</td>\n",
       "    </tr>\n",
       "    <tr>\n",
       "      <th>6</th>\n",
       "      <td>Floresland</td>\n",
       "      <td>INNOVIX</td>\n",
       "      <td>2021-02-01</td>\n",
       "      <td>6574.1432</td>\n",
       "      <td>10952.5781</td>\n",
       "      <td>3362140</td>\n",
       "    </tr>\n",
       "    <tr>\n",
       "      <th>7</th>\n",
       "      <td>Floresland</td>\n",
       "      <td>INNOVIX</td>\n",
       "      <td>2021-03-01</td>\n",
       "      <td>8410.0409</td>\n",
       "      <td>12962.2640</td>\n",
       "      <td>4280840</td>\n",
       "    </tr>\n",
       "    <tr>\n",
       "      <th>8</th>\n",
       "      <td>Floresland</td>\n",
       "      <td>INNOVIX</td>\n",
       "      <td>2021-04-01</td>\n",
       "      <td>7323.1211</td>\n",
       "      <td>13179.1638</td>\n",
       "      <td>3778260</td>\n",
       "    </tr>\n",
       "    <tr>\n",
       "      <th>9</th>\n",
       "      <td>Floresland</td>\n",
       "      <td>INNOVIX</td>\n",
       "      <td>2021-05-01</td>\n",
       "      <td>7395.9758</td>\n",
       "      <td>12206.0452</td>\n",
       "      <td>3836240</td>\n",
       "    </tr>\n",
       "  </tbody>\n",
       "</table>\n",
       "</div>"
      ],
      "text/plain": [
       "      Country  Product       Date  MonthlyTreatment  YrexMonthlyTreatment   \n",
       "0  Floresland  INNOVIX 2020-08-01         7135.4428             8755.6500  \\\n",
       "1  Floresland  INNOVIX 2020-09-01         7825.0070             9645.6619   \n",
       "2  Floresland  INNOVIX 2020-10-01         8191.0239            11365.3433   \n",
       "3  Floresland  INNOVIX 2020-11-01         7232.5730            10154.6358   \n",
       "4  Floresland  INNOVIX 2020-12-01         7152.7927            10652.5738   \n",
       "5  Floresland  INNOVIX 2021-01-01         8835.9182            12404.6696   \n",
       "6  Floresland  INNOVIX 2021-02-01         6574.1432            10952.5781   \n",
       "7  Floresland  INNOVIX 2021-03-01         8410.0409            12962.2640   \n",
       "8  Floresland  INNOVIX 2021-04-01         7323.1211            13179.1638   \n",
       "9  Floresland  INNOVIX 2021-05-01         7395.9758            12206.0452   \n",
       "\n",
       "     Value  \n",
       "0  3657300  \n",
       "1  3970760  \n",
       "2  4102640  \n",
       "3  3661520  \n",
       "4  3601940  \n",
       "5  4452420  \n",
       "6  3362140  \n",
       "7  4280840  \n",
       "8  3778260  \n",
       "9  3836240  "
      ]
     },
     "execution_count": 289,
     "metadata": {},
     "output_type": "execute_result"
    }
   ],
   "source": [
    "df_demand_exfactor.head(10)"
   ]
  },
  {
   "cell_type": "code",
   "execution_count": 290,
   "metadata": {},
   "outputs": [
    {
     "data": {
      "text/html": [
       "<div>\n",
       "<style scoped>\n",
       "    .dataframe tbody tr th:only-of-type {\n",
       "        vertical-align: middle;\n",
       "    }\n",
       "\n",
       "    .dataframe tbody tr th {\n",
       "        vertical-align: top;\n",
       "    }\n",
       "\n",
       "    .dataframe thead th {\n",
       "        text-align: right;\n",
       "    }\n",
       "</style>\n",
       "<table border=\"1\" class=\"dataframe\">\n",
       "  <thead>\n",
       "    <tr style=\"text-align: right;\">\n",
       "      <th></th>\n",
       "      <th>Country</th>\n",
       "      <th>Data type</th>\n",
       "      <th>Product</th>\n",
       "      <th>Indication</th>\n",
       "      <th>Date</th>\n",
       "      <th>Value</th>\n",
       "    </tr>\n",
       "  </thead>\n",
       "  <tbody>\n",
       "    <tr>\n",
       "      <th>0</th>\n",
       "      <td>Floresland</td>\n",
       "      <td>Share of Voice</td>\n",
       "      <td>INNOVIX</td>\n",
       "      <td>Indication 1</td>\n",
       "      <td>2020-01-01</td>\n",
       "      <td>0.086294</td>\n",
       "    </tr>\n",
       "    <tr>\n",
       "      <th>1</th>\n",
       "      <td>Floresland</td>\n",
       "      <td>Share of Voice</td>\n",
       "      <td>INNOVIX</td>\n",
       "      <td>Indication 1</td>\n",
       "      <td>2020-02-01</td>\n",
       "      <td>0.000000</td>\n",
       "    </tr>\n",
       "    <tr>\n",
       "      <th>2</th>\n",
       "      <td>Floresland</td>\n",
       "      <td>Share of Voice</td>\n",
       "      <td>INNOVIX</td>\n",
       "      <td>Indication 1</td>\n",
       "      <td>2020-05-01</td>\n",
       "      <td>0.000000</td>\n",
       "    </tr>\n",
       "    <tr>\n",
       "      <th>3</th>\n",
       "      <td>Floresland</td>\n",
       "      <td>Share of Voice</td>\n",
       "      <td>INNOVIX</td>\n",
       "      <td>Indication 1</td>\n",
       "      <td>2020-06-01</td>\n",
       "      <td>0.000000</td>\n",
       "    </tr>\n",
       "    <tr>\n",
       "      <th>4</th>\n",
       "      <td>Floresland</td>\n",
       "      <td>Share of Voice</td>\n",
       "      <td>INNOVIX</td>\n",
       "      <td>Indication 1</td>\n",
       "      <td>2020-07-01</td>\n",
       "      <td>0.000000</td>\n",
       "    </tr>\n",
       "    <tr>\n",
       "      <th>5</th>\n",
       "      <td>Floresland</td>\n",
       "      <td>Share of Voice</td>\n",
       "      <td>INNOVIX</td>\n",
       "      <td>Indication 1</td>\n",
       "      <td>2020-08-01</td>\n",
       "      <td>0.000000</td>\n",
       "    </tr>\n",
       "    <tr>\n",
       "      <th>6</th>\n",
       "      <td>Floresland</td>\n",
       "      <td>Share of Voice</td>\n",
       "      <td>INNOVIX</td>\n",
       "      <td>Indication 1</td>\n",
       "      <td>2020-09-01</td>\n",
       "      <td>0.000000</td>\n",
       "    </tr>\n",
       "    <tr>\n",
       "      <th>7</th>\n",
       "      <td>Floresland</td>\n",
       "      <td>Share of Voice</td>\n",
       "      <td>INNOVIX</td>\n",
       "      <td>Indication 1</td>\n",
       "      <td>2020-10-01</td>\n",
       "      <td>0.000000</td>\n",
       "    </tr>\n",
       "    <tr>\n",
       "      <th>8</th>\n",
       "      <td>Floresland</td>\n",
       "      <td>Share of Voice</td>\n",
       "      <td>INNOVIX</td>\n",
       "      <td>Indication 1</td>\n",
       "      <td>2020-11-01</td>\n",
       "      <td>0.000000</td>\n",
       "    </tr>\n",
       "    <tr>\n",
       "      <th>9</th>\n",
       "      <td>Floresland</td>\n",
       "      <td>Share of Voice</td>\n",
       "      <td>INNOVIX</td>\n",
       "      <td>Indication 1</td>\n",
       "      <td>2020-12-01</td>\n",
       "      <td>0.000000</td>\n",
       "    </tr>\n",
       "  </tbody>\n",
       "</table>\n",
       "</div>"
      ],
      "text/plain": [
       "      Country       Data type  Product    Indication       Date     Value\n",
       "0  Floresland  Share of Voice  INNOVIX  Indication 1 2020-01-01  0.086294\n",
       "1  Floresland  Share of Voice  INNOVIX  Indication 1 2020-02-01  0.000000\n",
       "2  Floresland  Share of Voice  INNOVIX  Indication 1 2020-05-01  0.000000\n",
       "3  Floresland  Share of Voice  INNOVIX  Indication 1 2020-06-01  0.000000\n",
       "4  Floresland  Share of Voice  INNOVIX  Indication 1 2020-07-01  0.000000\n",
       "5  Floresland  Share of Voice  INNOVIX  Indication 1 2020-08-01  0.000000\n",
       "6  Floresland  Share of Voice  INNOVIX  Indication 1 2020-09-01  0.000000\n",
       "7  Floresland  Share of Voice  INNOVIX  Indication 1 2020-10-01  0.000000\n",
       "8  Floresland  Share of Voice  INNOVIX  Indication 1 2020-11-01  0.000000\n",
       "9  Floresland  Share of Voice  INNOVIX  Indication 1 2020-12-01  0.000000"
      ]
     },
     "execution_count": 290,
     "metadata": {},
     "output_type": "execute_result"
    }
   ],
   "source": [
    "df_share = pd.read_excel(Floresland_path, sheet_name='Share of Voice')\n",
    "df_share.head(10)"
   ]
  },
  {
   "cell_type": "code",
   "execution_count": 291,
   "metadata": {},
   "outputs": [],
   "source": [
    "df_share.drop(columns=['Data type'], inplace=True)\n",
    "df_share_innovix = df_share[df_share['Product'] == 'INNOVIX']\n",
    "df_share_yrex = df_share[df_share['Product'] == 'YREX']"
   ]
  },
  {
   "cell_type": "code",
   "execution_count": 292,
   "metadata": {},
   "outputs": [
    {
     "name": "stderr",
     "output_type": "stream",
     "text": [
      "C:\\Users\\Usuari\\AppData\\Local\\Temp\\ipykernel_10088\\2140851543.py:1: SettingWithCopyWarning: \n",
      "A value is trying to be set on a copy of a slice from a DataFrame\n",
      "\n",
      "See the caveats in the documentation: https://pandas.pydata.org/pandas-docs/stable/user_guide/indexing.html#returning-a-view-versus-a-copy\n",
      "  df_share_innovix.drop(columns=['Product'], inplace=True)\n",
      "C:\\Users\\Usuari\\AppData\\Local\\Temp\\ipykernel_10088\\2140851543.py:2: SettingWithCopyWarning: \n",
      "A value is trying to be set on a copy of a slice from a DataFrame\n",
      "\n",
      "See the caveats in the documentation: https://pandas.pydata.org/pandas-docs/stable/user_guide/indexing.html#returning-a-view-versus-a-copy\n",
      "  df_share_yrex .drop(columns=['Country', 'Product'], inplace=True)\n"
     ]
    }
   ],
   "source": [
    "df_share_innovix.drop(columns=['Product'], inplace=True)\n",
    "df_share_yrex .drop(columns=['Country', 'Product'], inplace=True)"
   ]
  },
  {
   "cell_type": "code",
   "execution_count": 293,
   "metadata": {},
   "outputs": [],
   "source": [
    "df_share_innovix = df_share_innovix.rename(columns={\n",
    "    'Value': 'Share'\n",
    "})\n",
    "\n",
    "df_share_yrex = df_share_yrex.rename(columns={\n",
    "    'Value': 'YrexShare'\n",
    "})"
   ]
  },
  {
   "cell_type": "code",
   "execution_count": 294,
   "metadata": {},
   "outputs": [],
   "source": [
    "df_final_share = df_share_innovix.merge(right=df_share_yrex, on=['Date', 'Indication'])"
   ]
  },
  {
   "cell_type": "code",
   "execution_count": 295,
   "metadata": {},
   "outputs": [
    {
     "data": {
      "text/html": [
       "<div>\n",
       "<style scoped>\n",
       "    .dataframe tbody tr th:only-of-type {\n",
       "        vertical-align: middle;\n",
       "    }\n",
       "\n",
       "    .dataframe tbody tr th {\n",
       "        vertical-align: top;\n",
       "    }\n",
       "\n",
       "    .dataframe thead th {\n",
       "        text-align: right;\n",
       "    }\n",
       "</style>\n",
       "<table border=\"1\" class=\"dataframe\">\n",
       "  <thead>\n",
       "    <tr style=\"text-align: right;\">\n",
       "      <th></th>\n",
       "      <th>Country</th>\n",
       "      <th>Indication</th>\n",
       "      <th>Date</th>\n",
       "      <th>Share</th>\n",
       "      <th>YrexShare</th>\n",
       "    </tr>\n",
       "  </thead>\n",
       "  <tbody>\n",
       "    <tr>\n",
       "      <th>0</th>\n",
       "      <td>Floresland</td>\n",
       "      <td>Indication 1</td>\n",
       "      <td>2020-01-01</td>\n",
       "      <td>0.086294</td>\n",
       "      <td>0.913706</td>\n",
       "    </tr>\n",
       "    <tr>\n",
       "      <th>1</th>\n",
       "      <td>Floresland</td>\n",
       "      <td>Indication 1</td>\n",
       "      <td>2020-02-01</td>\n",
       "      <td>0.000000</td>\n",
       "      <td>1.000000</td>\n",
       "    </tr>\n",
       "    <tr>\n",
       "      <th>2</th>\n",
       "      <td>Floresland</td>\n",
       "      <td>Indication 1</td>\n",
       "      <td>2020-05-01</td>\n",
       "      <td>0.000000</td>\n",
       "      <td>1.000000</td>\n",
       "    </tr>\n",
       "    <tr>\n",
       "      <th>3</th>\n",
       "      <td>Floresland</td>\n",
       "      <td>Indication 1</td>\n",
       "      <td>2020-06-01</td>\n",
       "      <td>0.000000</td>\n",
       "      <td>1.000000</td>\n",
       "    </tr>\n",
       "    <tr>\n",
       "      <th>4</th>\n",
       "      <td>Floresland</td>\n",
       "      <td>Indication 1</td>\n",
       "      <td>2020-07-01</td>\n",
       "      <td>0.000000</td>\n",
       "      <td>1.000000</td>\n",
       "    </tr>\n",
       "    <tr>\n",
       "      <th>5</th>\n",
       "      <td>Floresland</td>\n",
       "      <td>Indication 1</td>\n",
       "      <td>2020-08-01</td>\n",
       "      <td>0.000000</td>\n",
       "      <td>0.708763</td>\n",
       "    </tr>\n",
       "    <tr>\n",
       "      <th>6</th>\n",
       "      <td>Floresland</td>\n",
       "      <td>Indication 1</td>\n",
       "      <td>2020-09-01</td>\n",
       "      <td>0.000000</td>\n",
       "      <td>1.000000</td>\n",
       "    </tr>\n",
       "    <tr>\n",
       "      <th>7</th>\n",
       "      <td>Floresland</td>\n",
       "      <td>Indication 1</td>\n",
       "      <td>2020-10-01</td>\n",
       "      <td>0.000000</td>\n",
       "      <td>1.000000</td>\n",
       "    </tr>\n",
       "    <tr>\n",
       "      <th>8</th>\n",
       "      <td>Floresland</td>\n",
       "      <td>Indication 1</td>\n",
       "      <td>2020-11-01</td>\n",
       "      <td>0.000000</td>\n",
       "      <td>0.572519</td>\n",
       "    </tr>\n",
       "    <tr>\n",
       "      <th>9</th>\n",
       "      <td>Floresland</td>\n",
       "      <td>Indication 1</td>\n",
       "      <td>2020-12-01</td>\n",
       "      <td>0.000000</td>\n",
       "      <td>0.511111</td>\n",
       "    </tr>\n",
       "  </tbody>\n",
       "</table>\n",
       "</div>"
      ],
      "text/plain": [
       "      Country    Indication       Date     Share  YrexShare\n",
       "0  Floresland  Indication 1 2020-01-01  0.086294   0.913706\n",
       "1  Floresland  Indication 1 2020-02-01  0.000000   1.000000\n",
       "2  Floresland  Indication 1 2020-05-01  0.000000   1.000000\n",
       "3  Floresland  Indication 1 2020-06-01  0.000000   1.000000\n",
       "4  Floresland  Indication 1 2020-07-01  0.000000   1.000000\n",
       "5  Floresland  Indication 1 2020-08-01  0.000000   0.708763\n",
       "6  Floresland  Indication 1 2020-09-01  0.000000   1.000000\n",
       "7  Floresland  Indication 1 2020-10-01  0.000000   1.000000\n",
       "8  Floresland  Indication 1 2020-11-01  0.000000   0.572519\n",
       "9  Floresland  Indication 1 2020-12-01  0.000000   0.511111"
      ]
     },
     "execution_count": 295,
     "metadata": {},
     "output_type": "execute_result"
    }
   ],
   "source": [
    "df_final_share.head(10)"
   ]
  },
  {
   "cell_type": "code",
   "execution_count": 296,
   "metadata": {},
   "outputs": [],
   "source": [
    "df_final_share.drop(columns=['Country'], inplace=True)"
   ]
  },
  {
   "cell_type": "code",
   "execution_count": 297,
   "metadata": {},
   "outputs": [],
   "source": [
    "df_demand_exfactor_shares = df_demand_exfactor.merge(right=df_final_share, on='Date')"
   ]
  },
  {
   "cell_type": "code",
   "execution_count": 298,
   "metadata": {},
   "outputs": [
    {
     "data": {
      "text/html": [
       "<div>\n",
       "<style scoped>\n",
       "    .dataframe tbody tr th:only-of-type {\n",
       "        vertical-align: middle;\n",
       "    }\n",
       "\n",
       "    .dataframe tbody tr th {\n",
       "        vertical-align: top;\n",
       "    }\n",
       "\n",
       "    .dataframe thead th {\n",
       "        text-align: right;\n",
       "    }\n",
       "</style>\n",
       "<table border=\"1\" class=\"dataframe\">\n",
       "  <thead>\n",
       "    <tr style=\"text-align: right;\">\n",
       "      <th></th>\n",
       "      <th>Country</th>\n",
       "      <th>Product</th>\n",
       "      <th>Date</th>\n",
       "      <th>MonthlyTreatment</th>\n",
       "      <th>YrexMonthlyTreatment</th>\n",
       "      <th>Value</th>\n",
       "      <th>Indication</th>\n",
       "      <th>Share</th>\n",
       "      <th>YrexShare</th>\n",
       "    </tr>\n",
       "  </thead>\n",
       "  <tbody>\n",
       "    <tr>\n",
       "      <th>0</th>\n",
       "      <td>Floresland</td>\n",
       "      <td>INNOVIX</td>\n",
       "      <td>2020-08-01</td>\n",
       "      <td>7135.4428</td>\n",
       "      <td>8755.6500</td>\n",
       "      <td>3657300</td>\n",
       "      <td>Indication 1</td>\n",
       "      <td>0.000000</td>\n",
       "      <td>0.708763</td>\n",
       "    </tr>\n",
       "    <tr>\n",
       "      <th>1</th>\n",
       "      <td>Floresland</td>\n",
       "      <td>INNOVIX</td>\n",
       "      <td>2020-08-01</td>\n",
       "      <td>7135.4428</td>\n",
       "      <td>8755.6500</td>\n",
       "      <td>3657300</td>\n",
       "      <td>Indication 12</td>\n",
       "      <td>0.413163</td>\n",
       "      <td>0.000000</td>\n",
       "    </tr>\n",
       "    <tr>\n",
       "      <th>2</th>\n",
       "      <td>Floresland</td>\n",
       "      <td>INNOVIX</td>\n",
       "      <td>2020-08-01</td>\n",
       "      <td>7135.4428</td>\n",
       "      <td>8755.6500</td>\n",
       "      <td>3657300</td>\n",
       "      <td>Indication 2</td>\n",
       "      <td>0.563107</td>\n",
       "      <td>0.145631</td>\n",
       "    </tr>\n",
       "    <tr>\n",
       "      <th>3</th>\n",
       "      <td>Floresland</td>\n",
       "      <td>INNOVIX</td>\n",
       "      <td>2020-08-01</td>\n",
       "      <td>7135.4428</td>\n",
       "      <td>8755.6500</td>\n",
       "      <td>3657300</td>\n",
       "      <td>Indication 19</td>\n",
       "      <td>0.111969</td>\n",
       "      <td>0.108986</td>\n",
       "    </tr>\n",
       "    <tr>\n",
       "      <th>4</th>\n",
       "      <td>Floresland</td>\n",
       "      <td>INNOVIX</td>\n",
       "      <td>2020-08-01</td>\n",
       "      <td>7135.4428</td>\n",
       "      <td>8755.6500</td>\n",
       "      <td>3657300</td>\n",
       "      <td>Indication 23</td>\n",
       "      <td>0.203883</td>\n",
       "      <td>0.108738</td>\n",
       "    </tr>\n",
       "    <tr>\n",
       "      <th>5</th>\n",
       "      <td>Floresland</td>\n",
       "      <td>INNOVIX</td>\n",
       "      <td>2020-09-01</td>\n",
       "      <td>7825.0070</td>\n",
       "      <td>9645.6619</td>\n",
       "      <td>3970760</td>\n",
       "      <td>Indication 1</td>\n",
       "      <td>0.000000</td>\n",
       "      <td>1.000000</td>\n",
       "    </tr>\n",
       "    <tr>\n",
       "      <th>6</th>\n",
       "      <td>Floresland</td>\n",
       "      <td>INNOVIX</td>\n",
       "      <td>2020-09-01</td>\n",
       "      <td>7825.0070</td>\n",
       "      <td>9645.6619</td>\n",
       "      <td>3970760</td>\n",
       "      <td>Indication 10</td>\n",
       "      <td>0.000000</td>\n",
       "      <td>0.500000</td>\n",
       "    </tr>\n",
       "    <tr>\n",
       "      <th>7</th>\n",
       "      <td>Floresland</td>\n",
       "      <td>INNOVIX</td>\n",
       "      <td>2020-09-01</td>\n",
       "      <td>7825.0070</td>\n",
       "      <td>9645.6619</td>\n",
       "      <td>3970760</td>\n",
       "      <td>Indication 12</td>\n",
       "      <td>0.245211</td>\n",
       "      <td>0.000000</td>\n",
       "    </tr>\n",
       "    <tr>\n",
       "      <th>8</th>\n",
       "      <td>Floresland</td>\n",
       "      <td>INNOVIX</td>\n",
       "      <td>2020-09-01</td>\n",
       "      <td>7825.0070</td>\n",
       "      <td>9645.6619</td>\n",
       "      <td>3970760</td>\n",
       "      <td>Indication 2</td>\n",
       "      <td>0.239336</td>\n",
       "      <td>0.234597</td>\n",
       "    </tr>\n",
       "    <tr>\n",
       "      <th>9</th>\n",
       "      <td>Floresland</td>\n",
       "      <td>INNOVIX</td>\n",
       "      <td>2020-09-01</td>\n",
       "      <td>7825.0070</td>\n",
       "      <td>9645.6619</td>\n",
       "      <td>3970760</td>\n",
       "      <td>Indication 19</td>\n",
       "      <td>0.163346</td>\n",
       "      <td>0.146103</td>\n",
       "    </tr>\n",
       "  </tbody>\n",
       "</table>\n",
       "</div>"
      ],
      "text/plain": [
       "      Country  Product       Date  MonthlyTreatment  YrexMonthlyTreatment   \n",
       "0  Floresland  INNOVIX 2020-08-01         7135.4428             8755.6500  \\\n",
       "1  Floresland  INNOVIX 2020-08-01         7135.4428             8755.6500   \n",
       "2  Floresland  INNOVIX 2020-08-01         7135.4428             8755.6500   \n",
       "3  Floresland  INNOVIX 2020-08-01         7135.4428             8755.6500   \n",
       "4  Floresland  INNOVIX 2020-08-01         7135.4428             8755.6500   \n",
       "5  Floresland  INNOVIX 2020-09-01         7825.0070             9645.6619   \n",
       "6  Floresland  INNOVIX 2020-09-01         7825.0070             9645.6619   \n",
       "7  Floresland  INNOVIX 2020-09-01         7825.0070             9645.6619   \n",
       "8  Floresland  INNOVIX 2020-09-01         7825.0070             9645.6619   \n",
       "9  Floresland  INNOVIX 2020-09-01         7825.0070             9645.6619   \n",
       "\n",
       "     Value     Indication     Share  YrexShare  \n",
       "0  3657300   Indication 1  0.000000   0.708763  \n",
       "1  3657300  Indication 12  0.413163   0.000000  \n",
       "2  3657300   Indication 2  0.563107   0.145631  \n",
       "3  3657300  Indication 19  0.111969   0.108986  \n",
       "4  3657300  Indication 23  0.203883   0.108738  \n",
       "5  3970760   Indication 1  0.000000   1.000000  \n",
       "6  3970760  Indication 10  0.000000   0.500000  \n",
       "7  3970760  Indication 12  0.245211   0.000000  \n",
       "8  3970760   Indication 2  0.239336   0.234597  \n",
       "9  3970760  Indication 19  0.163346   0.146103  "
      ]
     },
     "execution_count": 298,
     "metadata": {},
     "output_type": "execute_result"
    }
   ],
   "source": [
    "df_demand_exfactor_shares.head(10)"
   ]
  }
 ],
 "metadata": {
  "kernelspec": {
   "display_name": "Python 3",
   "language": "python",
   "name": "python3"
  },
  "language_info": {
   "codemirror_mode": {
    "name": "ipython",
    "version": 3
   },
   "file_extension": ".py",
   "mimetype": "text/x-python",
   "name": "python",
   "nbconvert_exporter": "python",
   "pygments_lexer": "ipython3",
   "version": "3.11.3"
  }
 },
 "nbformat": 4,
 "nbformat_minor": 2
}
